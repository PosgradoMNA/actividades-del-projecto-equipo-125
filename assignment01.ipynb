{
  "nbformat": 4,
  "nbformat_minor": 0,
  "metadata": {
    "colab": {
      "name": "assignment01.ipynb",
      "provenance": [],
      "include_colab_link": true
    },
    "kernelspec": {
      "name": "python3",
      "display_name": "Python 3"
    },
    "language_info": {
      "name": "python"
    }
  },
  "cells": [
    {
      "cell_type": "markdown",
      "metadata": {
        "id": "view-in-github",
        "colab_type": "text"
      },
      "source": [
        "<a href=\"https://colab.research.google.com/github/PosgradoMNA/actividades-del-projecto-equipo-125/blob/main/assignment01.ipynb\" target=\"_parent\"><img src=\"https://colab.research.google.com/assets/colab-badge.svg\" alt=\"Open In Colab\"/></a>"
      ]
    },
    {
      "cell_type": "markdown",
      "source": [
        "###Equipo 125\n",
        "Estefania Abigail Castro Belmont A01332636\n",
        "\n",
        "Vladimir Salazar Altamirano A01793118"
      ],
      "metadata": {
        "id": "kJKEaRQcKuoM"
      }
    },
    {
      "cell_type": "markdown",
      "source": [
        "#Avance 1\n",
        "**#Instrucción:El nombre que caracteriza el conjunto de datos.**\n",
        "\n",
        "FAANG\n",
        "\n",
        "**#Instrucción:La organización que lo generó.**\n",
        "\n",
        "Yahoo hace la recopilación de los datos financieros de diversas empresas a través \n",
        "\n",
        "**#Instrucción: Incluya un enlace de Internet donde se puedan descargar el base de datos en línea**\n",
        "\n",
        "**#Instrucción: Describe el conjunto de datos. ¿Qué datos contiene?**\n",
        "\n",
        "**#Instrucción:¿Cuáles son algunas de las preguntas de investigación que podría responder con estos datos? Enumere al menos OCHO (no responda las preguntas).**\n",
        "\n",
        "1. \n",
        "2. \n",
        "3. \n",
        "4. \n",
        "5. \n",
        "6. \n",
        "7. \n",
        "8. \n",
        "**#Instrucción:¿Qué actor (empresa, sector de la sociedad, organismo descentralizado, gobierno, etc.) estaría interesado en las preguntas mencionadas que identificó?**"
      ],
      "metadata": {
        "id": "5GAXpEs3IlY3"
      }
    },
    {
      "cell_type": "markdown",
      "source": [
        "#Avance 2\n",
        "##Metodología a utilizar\n",
        "**#Instrucción: Identificar una metodología que vas a usar durante la realización del proyecto**\n",
        "\n",
        "CRISP: The CRoss Industry Standard Process for Data Mining (CRISP-DM) is a process model that serves as the base for a data science process.\n",
        "##Pasos\n",
        "**#Instrucción: Escribe los pasos estándares en un máximo de 3 oraciones, por cada fase**\n",
        " \n",
        " La metodología CRISP tiene seis pasos secuenciales los cuales se enumeran a continuación. \n",
        "\n",
        "1. Business understanding – What does the business need?\n",
        "2. Data understanding – What data do we have / need? Is it clean?\n",
        "3. Data preparation – How do we organize the data for modeling?\n",
        "4. Modeling – What modeling techniques should we apply?\n",
        "5. Evaluation – Which model best meets the business objectives?\n",
        "6. Deployment – How do stakeholders access the results?\n",
        "\n",
        "##Referencias\n",
        "Hotz, N. (2022). *What is CRISP DM?* Recuperado de Data Science Process Alliance el 24/09/2022 de: https://www.datascience-pm.com/crisp-dm-2/"
      ],
      "metadata": {
        "id": "BAwFZnR6I0C4"
      }
    }
  ]
}