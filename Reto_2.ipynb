{
  "nbformat": 4,
  "nbformat_minor": 0,
  "metadata": {
    "colab": {
      "provenance": [],
      "authorship_tag": "ABX9TyPImieYXmrePyJOTFrRM7xb",
      "include_colab_link": true
    },
    "kernelspec": {
      "name": "python3",
      "display_name": "Python 3"
    },
    "language_info": {
      "name": "python"
    }
  },
  "cells": [
    {
      "cell_type": "markdown",
      "metadata": {
        "id": "view-in-github",
        "colab_type": "text"
      },
      "source": [
        "<a href=\"https://colab.research.google.com/github/PosgradoMNA/actividades-del-projecto-equipo-125/blob/main/Reto_2.ipynb\" target=\"_parent\"><img src=\"https://colab.research.google.com/assets/colab-badge.svg\" alt=\"Open In Colab\"/></a>"
      ]
    },
    {
      "cell_type": "markdown",
      "source": [
        "#Reto, 2da entrega\n",
        "Estefania Abigail Castro Belmont A01332636\n",
        "\n",
        "Vladimir Salazar Altamirano A01793118\n",
        "\n",
        "Materia: Ciencia y analítica de datos\n",
        "\n",
        "Profesor: Maria de la Paz Rico\n",
        "\n",
        "Tutor: Julio César Galindo López\n",
        "\n",
        "18/11/2022"
      ],
      "metadata": {
        "id": "hnl0U96TvdxN"
      }
    },
    {
      "cell_type": "markdown",
      "source": [
        "Clasificación\n",
        "En esta base de datos encontraras:\n",
        "\n",
        "**Aguas subterráneas**\n",
        "\n",
        "Utilizando la base de datos que hayas elegido y hayas realizado su limpieza en la anterior entrega del reto, realiza lo siguiente:\n",
        "\n",
        "Selecciona tus variables independientes X y dependiente Y (semáforo)\n",
        "\n",
        "Cambia a label encoding el semáforo, ej, de [\"clase 1\", \"clase 2\", \"clase 3\"] a [ 1,2,3]\n",
        "\n",
        "Realiza un análisis general de las features importances a traves de decision trees o random forest.\n",
        "\n",
        "Selecciona las variables de mayor importancia.\n",
        "\n",
        "Realiza tu clasificador, recuerda dividir los datos de manera balanceada (auxiliate de train test split)\n",
        "\n",
        "Explora que clasificador es el más optimo, ejemplo:\n",
        "Decision trees\n",
        "\n",
        "Random Forest.\n",
        "\n",
        "Determina el grado de exactitud a través del reporte de clasificación y análisis de la gráfica de Precision Recall.\n",
        "\n",
        "Visualiza los resultados del modelo o las predicciones a través de una matriz de confusión.\n",
        "\n",
        "Realiza un reporte de los principales hallazgos y conclusiones del experimento e incluyelos en una presentación ejecutiva de 10 diapositivas. La presentación deberá incluir todos los pasos del pipeline seguidos, limpieza, análisis, kmeans, clasificación, resultados y conclusiones."
      ],
      "metadata": {
        "id": "ny8VwwhjrZl-"
      }
    },
    {
      "cell_type": "markdown",
      "source": [
        "##Base de datos de aguas subterraneas"
      ],
      "metadata": {
        "id": "7GV0yLz8zmfk"
      }
    },
    {
      "cell_type": "code",
      "source": [
        "import pandas as pd\n",
        "import numpy as np\n",
        "from sklearn.ensemble import RandomForestClassifier, VotingClassifier\n",
        "from sklearn.linear_model import LogisticRegression\n",
        "from sklearn.model_selection import train_test_split\n",
        "from sklearn.svm import SVC\n",
        "import matplotlib.pyplot as plt"
      ],
      "metadata": {
        "id": "JBFTwFGcwKy9"
      },
      "execution_count": 1,
      "outputs": []
    },
    {
      "cell_type": "code",
      "source": [
        "df = pd.read_csv('https://raw.githubusercontent.com/PosgradoMNA/actividades-del-projecto-equipo-125/main/Datos_de_calidad_del_agua_de_sitios_de_monitoreo_de_aguas_subterraneas_2020.csv',\n",
        "                 sep=',',\n",
        "                 encoding='cp1252')\n",
        "                 \n",
        "df.head()"
      ],
      "metadata": {
        "colab": {
          "base_uri": "https://localhost:8080/",
          "height": 421
        },
        "id": "_QfzcKoLwLAk",
        "outputId": "3a72049f-e7aa-4491-af5f-ab531b68aed6"
      },
      "execution_count": 2,
      "outputs": [
        {
          "output_type": "execute_result",
          "data": {
            "text/plain": [
              "       CLAVE                   SITIO           ORGANISMO_DE_CUENCA  \\\n",
              "0     DLAGU6            POZO SAN GIL       LERMA SANTIAGO PACIFICO   \n",
              "1  DLAGU6516  POZO R013 CAÑADA HONDA       LERMA SANTIAGO PACIFICO   \n",
              "2     DLAGU7              POZO COSIO       LERMA SANTIAGO PACIFICO   \n",
              "3     DLAGU9      POZO EL SALITRILLO       LERMA SANTIAGO PACIFICO   \n",
              "4   DLBAJ107      RANCHO EL TECOLOTE  PENINSULA DE BAJA CALIFORNIA   \n",
              "\n",
              "                ESTADO        MUNICIPIO                 ACUIFERO SUBTIPO  \\\n",
              "0       AGUASCALIENTES         ASIENTOS       VALLE DE CHICALOTE    POZO   \n",
              "1       AGUASCALIENTES   AGUASCALIENTES       VALLE DE CHICALOTE    POZO   \n",
              "2       AGUASCALIENTES            COSIO  VALLE DE AGUASCALIENTES    POZO   \n",
              "3       AGUASCALIENTES  RINCON DE ROMOS  VALLE DE AGUASCALIENTES    POZO   \n",
              "4  BAJA CALIFORNIA SUR           LA PAZ             TODOS SANTOS    POZO   \n",
              "\n",
              "    LONGITUD   LATITUD  PERIODO  ...  CUMPLE_CON_DUR CUMPLE_CON_CF  \\\n",
              "0 -102.02210  22.20887     2020  ...              SI            SI   \n",
              "1 -102.20075  21.99958     2020  ...              SI            SI   \n",
              "2 -102.28801  22.36685     2020  ...              SI            SI   \n",
              "3 -102.29449  22.18435     2020  ...              SI            SI   \n",
              "4 -110.24480  23.45138     2020  ...              SI            SI   \n",
              "\n",
              "   CUMPLE_CON_NO3 CUMPLE_CON_AS  CUMPLE_CON_CD CUMPLE_CON_CR CUMPLE_CON_HG  \\\n",
              "0              SI            SI             SI            SI            SI   \n",
              "1              SI            SI             SI            SI            SI   \n",
              "2              SI            NO             SI            SI            SI   \n",
              "3              SI            SI             SI            SI            SI   \n",
              "4              NO            SI             SI            SI            SI   \n",
              "\n",
              "  CUMPLE_CON_PB CUMPLE_CON_MN CUMPLE_CON_FE  \n",
              "0            SI            SI            SI  \n",
              "1            SI            SI            SI  \n",
              "2            SI            SI            SI  \n",
              "3            SI            SI            SI  \n",
              "4            SI            SI            SI  \n",
              "\n",
              "[5 rows x 57 columns]"
            ],
            "text/html": [
              "\n",
              "  <div id=\"df-284b0e29-4009-4020-beb5-f484de63f90a\">\n",
              "    <div class=\"colab-df-container\">\n",
              "      <div>\n",
              "<style scoped>\n",
              "    .dataframe tbody tr th:only-of-type {\n",
              "        vertical-align: middle;\n",
              "    }\n",
              "\n",
              "    .dataframe tbody tr th {\n",
              "        vertical-align: top;\n",
              "    }\n",
              "\n",
              "    .dataframe thead th {\n",
              "        text-align: right;\n",
              "    }\n",
              "</style>\n",
              "<table border=\"1\" class=\"dataframe\">\n",
              "  <thead>\n",
              "    <tr style=\"text-align: right;\">\n",
              "      <th></th>\n",
              "      <th>CLAVE</th>\n",
              "      <th>SITIO</th>\n",
              "      <th>ORGANISMO_DE_CUENCA</th>\n",
              "      <th>ESTADO</th>\n",
              "      <th>MUNICIPIO</th>\n",
              "      <th>ACUIFERO</th>\n",
              "      <th>SUBTIPO</th>\n",
              "      <th>LONGITUD</th>\n",
              "      <th>LATITUD</th>\n",
              "      <th>PERIODO</th>\n",
              "      <th>...</th>\n",
              "      <th>CUMPLE_CON_DUR</th>\n",
              "      <th>CUMPLE_CON_CF</th>\n",
              "      <th>CUMPLE_CON_NO3</th>\n",
              "      <th>CUMPLE_CON_AS</th>\n",
              "      <th>CUMPLE_CON_CD</th>\n",
              "      <th>CUMPLE_CON_CR</th>\n",
              "      <th>CUMPLE_CON_HG</th>\n",
              "      <th>CUMPLE_CON_PB</th>\n",
              "      <th>CUMPLE_CON_MN</th>\n",
              "      <th>CUMPLE_CON_FE</th>\n",
              "    </tr>\n",
              "  </thead>\n",
              "  <tbody>\n",
              "    <tr>\n",
              "      <th>0</th>\n",
              "      <td>DLAGU6</td>\n",
              "      <td>POZO SAN GIL</td>\n",
              "      <td>LERMA SANTIAGO PACIFICO</td>\n",
              "      <td>AGUASCALIENTES</td>\n",
              "      <td>ASIENTOS</td>\n",
              "      <td>VALLE DE CHICALOTE</td>\n",
              "      <td>POZO</td>\n",
              "      <td>-102.02210</td>\n",
              "      <td>22.20887</td>\n",
              "      <td>2020</td>\n",
              "      <td>...</td>\n",
              "      <td>SI</td>\n",
              "      <td>SI</td>\n",
              "      <td>SI</td>\n",
              "      <td>SI</td>\n",
              "      <td>SI</td>\n",
              "      <td>SI</td>\n",
              "      <td>SI</td>\n",
              "      <td>SI</td>\n",
              "      <td>SI</td>\n",
              "      <td>SI</td>\n",
              "    </tr>\n",
              "    <tr>\n",
              "      <th>1</th>\n",
              "      <td>DLAGU6516</td>\n",
              "      <td>POZO R013 CAÑADA HONDA</td>\n",
              "      <td>LERMA SANTIAGO PACIFICO</td>\n",
              "      <td>AGUASCALIENTES</td>\n",
              "      <td>AGUASCALIENTES</td>\n",
              "      <td>VALLE DE CHICALOTE</td>\n",
              "      <td>POZO</td>\n",
              "      <td>-102.20075</td>\n",
              "      <td>21.99958</td>\n",
              "      <td>2020</td>\n",
              "      <td>...</td>\n",
              "      <td>SI</td>\n",
              "      <td>SI</td>\n",
              "      <td>SI</td>\n",
              "      <td>SI</td>\n",
              "      <td>SI</td>\n",
              "      <td>SI</td>\n",
              "      <td>SI</td>\n",
              "      <td>SI</td>\n",
              "      <td>SI</td>\n",
              "      <td>SI</td>\n",
              "    </tr>\n",
              "    <tr>\n",
              "      <th>2</th>\n",
              "      <td>DLAGU7</td>\n",
              "      <td>POZO COSIO</td>\n",
              "      <td>LERMA SANTIAGO PACIFICO</td>\n",
              "      <td>AGUASCALIENTES</td>\n",
              "      <td>COSIO</td>\n",
              "      <td>VALLE DE AGUASCALIENTES</td>\n",
              "      <td>POZO</td>\n",
              "      <td>-102.28801</td>\n",
              "      <td>22.36685</td>\n",
              "      <td>2020</td>\n",
              "      <td>...</td>\n",
              "      <td>SI</td>\n",
              "      <td>SI</td>\n",
              "      <td>SI</td>\n",
              "      <td>NO</td>\n",
              "      <td>SI</td>\n",
              "      <td>SI</td>\n",
              "      <td>SI</td>\n",
              "      <td>SI</td>\n",
              "      <td>SI</td>\n",
              "      <td>SI</td>\n",
              "    </tr>\n",
              "    <tr>\n",
              "      <th>3</th>\n",
              "      <td>DLAGU9</td>\n",
              "      <td>POZO EL SALITRILLO</td>\n",
              "      <td>LERMA SANTIAGO PACIFICO</td>\n",
              "      <td>AGUASCALIENTES</td>\n",
              "      <td>RINCON DE ROMOS</td>\n",
              "      <td>VALLE DE AGUASCALIENTES</td>\n",
              "      <td>POZO</td>\n",
              "      <td>-102.29449</td>\n",
              "      <td>22.18435</td>\n",
              "      <td>2020</td>\n",
              "      <td>...</td>\n",
              "      <td>SI</td>\n",
              "      <td>SI</td>\n",
              "      <td>SI</td>\n",
              "      <td>SI</td>\n",
              "      <td>SI</td>\n",
              "      <td>SI</td>\n",
              "      <td>SI</td>\n",
              "      <td>SI</td>\n",
              "      <td>SI</td>\n",
              "      <td>SI</td>\n",
              "    </tr>\n",
              "    <tr>\n",
              "      <th>4</th>\n",
              "      <td>DLBAJ107</td>\n",
              "      <td>RANCHO EL TECOLOTE</td>\n",
              "      <td>PENINSULA DE BAJA CALIFORNIA</td>\n",
              "      <td>BAJA CALIFORNIA SUR</td>\n",
              "      <td>LA PAZ</td>\n",
              "      <td>TODOS SANTOS</td>\n",
              "      <td>POZO</td>\n",
              "      <td>-110.24480</td>\n",
              "      <td>23.45138</td>\n",
              "      <td>2020</td>\n",
              "      <td>...</td>\n",
              "      <td>SI</td>\n",
              "      <td>SI</td>\n",
              "      <td>NO</td>\n",
              "      <td>SI</td>\n",
              "      <td>SI</td>\n",
              "      <td>SI</td>\n",
              "      <td>SI</td>\n",
              "      <td>SI</td>\n",
              "      <td>SI</td>\n",
              "      <td>SI</td>\n",
              "    </tr>\n",
              "  </tbody>\n",
              "</table>\n",
              "<p>5 rows × 57 columns</p>\n",
              "</div>\n",
              "      <button class=\"colab-df-convert\" onclick=\"convertToInteractive('df-284b0e29-4009-4020-beb5-f484de63f90a')\"\n",
              "              title=\"Convert this dataframe to an interactive table.\"\n",
              "              style=\"display:none;\">\n",
              "        \n",
              "  <svg xmlns=\"http://www.w3.org/2000/svg\" height=\"24px\"viewBox=\"0 0 24 24\"\n",
              "       width=\"24px\">\n",
              "    <path d=\"M0 0h24v24H0V0z\" fill=\"none\"/>\n",
              "    <path d=\"M18.56 5.44l.94 2.06.94-2.06 2.06-.94-2.06-.94-.94-2.06-.94 2.06-2.06.94zm-11 1L8.5 8.5l.94-2.06 2.06-.94-2.06-.94L8.5 2.5l-.94 2.06-2.06.94zm10 10l.94 2.06.94-2.06 2.06-.94-2.06-.94-.94-2.06-.94 2.06-2.06.94z\"/><path d=\"M17.41 7.96l-1.37-1.37c-.4-.4-.92-.59-1.43-.59-.52 0-1.04.2-1.43.59L10.3 9.45l-7.72 7.72c-.78.78-.78 2.05 0 2.83L4 21.41c.39.39.9.59 1.41.59.51 0 1.02-.2 1.41-.59l7.78-7.78 2.81-2.81c.8-.78.8-2.07 0-2.86zM5.41 20L4 18.59l7.72-7.72 1.47 1.35L5.41 20z\"/>\n",
              "  </svg>\n",
              "      </button>\n",
              "      \n",
              "  <style>\n",
              "    .colab-df-container {\n",
              "      display:flex;\n",
              "      flex-wrap:wrap;\n",
              "      gap: 12px;\n",
              "    }\n",
              "\n",
              "    .colab-df-convert {\n",
              "      background-color: #E8F0FE;\n",
              "      border: none;\n",
              "      border-radius: 50%;\n",
              "      cursor: pointer;\n",
              "      display: none;\n",
              "      fill: #1967D2;\n",
              "      height: 32px;\n",
              "      padding: 0 0 0 0;\n",
              "      width: 32px;\n",
              "    }\n",
              "\n",
              "    .colab-df-convert:hover {\n",
              "      background-color: #E2EBFA;\n",
              "      box-shadow: 0px 1px 2px rgba(60, 64, 67, 0.3), 0px 1px 3px 1px rgba(60, 64, 67, 0.15);\n",
              "      fill: #174EA6;\n",
              "    }\n",
              "\n",
              "    [theme=dark] .colab-df-convert {\n",
              "      background-color: #3B4455;\n",
              "      fill: #D2E3FC;\n",
              "    }\n",
              "\n",
              "    [theme=dark] .colab-df-convert:hover {\n",
              "      background-color: #434B5C;\n",
              "      box-shadow: 0px 1px 3px 1px rgba(0, 0, 0, 0.15);\n",
              "      filter: drop-shadow(0px 1px 2px rgba(0, 0, 0, 0.3));\n",
              "      fill: #FFFFFF;\n",
              "    }\n",
              "  </style>\n",
              "\n",
              "      <script>\n",
              "        const buttonEl =\n",
              "          document.querySelector('#df-284b0e29-4009-4020-beb5-f484de63f90a button.colab-df-convert');\n",
              "        buttonEl.style.display =\n",
              "          google.colab.kernel.accessAllowed ? 'block' : 'none';\n",
              "\n",
              "        async function convertToInteractive(key) {\n",
              "          const element = document.querySelector('#df-284b0e29-4009-4020-beb5-f484de63f90a');\n",
              "          const dataTable =\n",
              "            await google.colab.kernel.invokeFunction('convertToInteractive',\n",
              "                                                     [key], {});\n",
              "          if (!dataTable) return;\n",
              "\n",
              "          const docLinkHtml = 'Like what you see? Visit the ' +\n",
              "            '<a target=\"_blank\" href=https://colab.research.google.com/notebooks/data_table.ipynb>data table notebook</a>'\n",
              "            + ' to learn more about interactive tables.';\n",
              "          element.innerHTML = '';\n",
              "          dataTable['output_type'] = 'display_data';\n",
              "          await google.colab.output.renderOutput(dataTable, element);\n",
              "          const docLink = document.createElement('div');\n",
              "          docLink.innerHTML = docLinkHtml;\n",
              "          element.appendChild(docLink);\n",
              "        }\n",
              "      </script>\n",
              "    </div>\n",
              "  </div>\n",
              "  "
            ]
          },
          "metadata": {},
          "execution_count": 2
        }
      ]
    },
    {
      "cell_type": "markdown",
      "source": [
        "##Limpieza anterior"
      ],
      "metadata": {
        "id": "3D8mfaBlzpqa"
      }
    },
    {
      "cell_type": "code",
      "source": [
        "ndf = df.copy()\n",
        "ndf.drop(columns=['SDT_mg/L','CONTAMINANTES'], inplace=True)"
      ],
      "metadata": {
        "id": "CvZ5aM-0wLK3"
      },
      "execution_count": 3,
      "outputs": []
    },
    {
      "cell_type": "code",
      "source": [
        "num_posibles=[\"SDT_M_mg/L\",\"FLUORUROS_mg/L\",\"DUR_mg/L\",\"COLI_FEC_NMP/100_mL\",\n",
        "              \"N_NO3_mg/L\",\"AS_TOT_mg/L\",\"CD_TOT_mg/L\",\"CR_TOT_mg/L\",\n",
        "              \"HG_TOT_mg/L\",\"PB_TOT_mg/L\",\"MN_TOT_mg/L\",\"FE_TOT_mg/L\"]\n",
        "\n",
        "ndf[num_posibles]=ndf[num_posibles].replace({'<':''}, regex=True)\n",
        "ndf[num_posibles]=ndf[num_posibles].astype(float)"
      ],
      "metadata": {
        "id": "IdtXqZ4ly-dc"
      },
      "execution_count": 4,
      "outputs": []
    },
    {
      "cell_type": "code",
      "source": [
        "cual_col=[]\n",
        "num_col=[]\n",
        "for n in ndf:\n",
        "  if (ndf[n].dtype)=='object':\n",
        "    cual_col.append(n)\n",
        "  else:\n",
        "    num_col.append(n)"
      ],
      "metadata": {
        "id": "Puz8peJFyy8R"
      },
      "execution_count": 5,
      "outputs": []
    },
    {
      "cell_type": "code",
      "source": [
        "for c in num_col:\n",
        "  ndf[c]=ndf[c].fillna(ndf[c].median())\n",
        "for c in cual_col:\n",
        "  ndf[c]=ndf[c].fillna(ndf[c].mode()[0])"
      ],
      "metadata": {
        "id": "eLEy0KyOwLUX"
      },
      "execution_count": 6,
      "outputs": []
    },
    {
      "cell_type": "code",
      "source": [
        "ndf.isnull().sum()"
      ],
      "metadata": {
        "colab": {
          "base_uri": "https://localhost:8080/"
        },
        "id": "l6ynJ_IRza-Y",
        "outputId": "8f0d865b-224d-476b-b508-cdeb392f42dc"
      },
      "execution_count": 7,
      "outputs": [
        {
          "output_type": "execute_result",
          "data": {
            "text/plain": [
              "CLAVE                   0\n",
              "SITIO                   0\n",
              "ORGANISMO_DE_CUENCA     0\n",
              "ESTADO                  0\n",
              "MUNICIPIO               0\n",
              "ACUIFERO                0\n",
              "SUBTIPO                 0\n",
              "LONGITUD                0\n",
              "LATITUD                 0\n",
              "PERIODO                 0\n",
              "ALC_mg/L                0\n",
              "CALIDAD_ALC             0\n",
              "CONDUCT_mS/cm           0\n",
              "CALIDAD_CONDUC          0\n",
              "SDT_M_mg/L              0\n",
              "CALIDAD_SDT_ra          0\n",
              "CALIDAD_SDT_salin       0\n",
              "FLUORUROS_mg/L          0\n",
              "CALIDAD_FLUO            0\n",
              "DUR_mg/L                0\n",
              "CALIDAD_DUR             0\n",
              "COLI_FEC_NMP/100_mL     0\n",
              "CALIDAD_COLI_FEC        0\n",
              "N_NO3_mg/L              0\n",
              "CALIDAD_N_NO3           0\n",
              "AS_TOT_mg/L             0\n",
              "CALIDAD_AS              0\n",
              "CD_TOT_mg/L             0\n",
              "CALIDAD_CD              0\n",
              "CR_TOT_mg/L             0\n",
              "CALIDAD_CR              0\n",
              "HG_TOT_mg/L             0\n",
              "CALIDAD_HG              0\n",
              "PB_TOT_mg/L             0\n",
              "CALIDAD_PB              0\n",
              "MN_TOT_mg/L             0\n",
              "CALIDAD_MN              0\n",
              "FE_TOT_mg/L             0\n",
              "CALIDAD_FE              0\n",
              "SEMAFORO                0\n",
              "CUMPLE_CON_ALC          0\n",
              "CUMPLE_CON_COND         0\n",
              "CUMPLE_CON_SDT_ra       0\n",
              "CUMPLE_CON_SDT_salin    0\n",
              "CUMPLE_CON_FLUO         0\n",
              "CUMPLE_CON_DUR          0\n",
              "CUMPLE_CON_CF           0\n",
              "CUMPLE_CON_NO3          0\n",
              "CUMPLE_CON_AS           0\n",
              "CUMPLE_CON_CD           0\n",
              "CUMPLE_CON_CR           0\n",
              "CUMPLE_CON_HG           0\n",
              "CUMPLE_CON_PB           0\n",
              "CUMPLE_CON_MN           0\n",
              "CUMPLE_CON_FE           0\n",
              "dtype: int64"
            ]
          },
          "metadata": {},
          "execution_count": 7
        }
      ]
    },
    {
      "cell_type": "markdown",
      "source": [
        "##Selecciona tus variables independientes X y dependiente Y (semáforo)"
      ],
      "metadata": {
        "id": "3demO-kJz0QY"
      }
    },
    {
      "cell_type": "code",
      "source": [
        "X=ndf[['CLAVE', 'SITIO', 'ORGANISMO_DE_CUENCA', 'ESTADO', 'MUNICIPIO',\n",
        "       'ACUIFERO', 'SUBTIPO', 'LONGITUD', 'LATITUD', 'PERIODO', 'ALC_mg/L',\n",
        "       'CALIDAD_ALC', 'CONDUCT_mS/cm', 'CALIDAD_CONDUC', 'SDT_M_mg/L',\n",
        "       'CALIDAD_SDT_ra', 'CALIDAD_SDT_salin', 'FLUORUROS_mg/L', 'CALIDAD_FLUO',\n",
        "       'DUR_mg/L', 'CALIDAD_DUR', 'COLI_FEC_NMP/100_mL', 'CALIDAD_COLI_FEC',\n",
        "       'N_NO3_mg/L', 'CALIDAD_N_NO3', 'AS_TOT_mg/L', 'CALIDAD_AS',\n",
        "       'CD_TOT_mg/L', 'CALIDAD_CD', 'CR_TOT_mg/L', 'CALIDAD_CR', 'HG_TOT_mg/L',\n",
        "       'CALIDAD_HG', 'PB_TOT_mg/L', 'CALIDAD_PB', 'MN_TOT_mg/L', 'CALIDAD_MN',\n",
        "       'FE_TOT_mg/L', 'CALIDAD_FE', 'CUMPLE_CON_ALC',\n",
        "       'CUMPLE_CON_COND', 'CUMPLE_CON_SDT_ra', 'CUMPLE_CON_SDT_salin',\n",
        "       'CUMPLE_CON_FLUO', 'CUMPLE_CON_DUR', 'CUMPLE_CON_CF', 'CUMPLE_CON_NO3',\n",
        "       'CUMPLE_CON_AS', 'CUMPLE_CON_CD', 'CUMPLE_CON_CR', 'CUMPLE_CON_HG',\n",
        "       'CUMPLE_CON_PB', 'CUMPLE_CON_MN', 'CUMPLE_CON_FE']]\n",
        "y=ndf[['SEMAFORO']]"
      ],
      "metadata": {
        "id": "Opl0wQ-8zwl7"
      },
      "execution_count": 8,
      "outputs": []
    },
    {
      "cell_type": "markdown",
      "source": [
        "##Cambia a label encoding el semáforo, ej, de [\"clase 1\", \"clase 2\", \"clase 3\"] a [ 1,2,3]"
      ],
      "metadata": {
        "id": "uu9i22Xm0Vjc"
      }
    },
    {
      "cell_type": "code",
      "source": [
        "from sklearn import preprocessing\n",
        "le = preprocessing.LabelEncoder()"
      ],
      "metadata": {
        "id": "bsL-0deY0Yq1"
      },
      "execution_count": 9,
      "outputs": []
    },
    {
      "cell_type": "code",
      "source": [
        "y['SEMAFORO']=le.fit_transform(y['SEMAFORO'])"
      ],
      "metadata": {
        "colab": {
          "base_uri": "https://localhost:8080/"
        },
        "id": "CsBDefnm0YxM",
        "outputId": "bce153b2-5a0a-495d-e889-d6d455a85b14"
      },
      "execution_count": 10,
      "outputs": [
        {
          "output_type": "stream",
          "name": "stderr",
          "text": [
            "/usr/local/lib/python3.7/dist-packages/ipykernel_launcher.py:1: SettingWithCopyWarning: \n",
            "A value is trying to be set on a copy of a slice from a DataFrame.\n",
            "Try using .loc[row_indexer,col_indexer] = value instead\n",
            "\n",
            "See the caveats in the documentation: https://pandas.pydata.org/pandas-docs/stable/user_guide/indexing.html#returning-a-view-versus-a-copy\n",
            "  \"\"\"Entry point for launching an IPython kernel.\n"
          ]
        }
      ]
    },
    {
      "cell_type": "code",
      "source": [
        "le.classes_"
      ],
      "metadata": {
        "colab": {
          "base_uri": "https://localhost:8080/"
        },
        "id": "fWh2QBi03hxB",
        "outputId": "7147decd-4e16-427c-921e-2937d81ef8fb"
      },
      "execution_count": 11,
      "outputs": [
        {
          "output_type": "execute_result",
          "data": {
            "text/plain": [
              "array(['Amarillo', 'Rojo', 'Verde'], dtype=object)"
            ]
          },
          "metadata": {},
          "execution_count": 11
        }
      ]
    },
    {
      "cell_type": "code",
      "source": [
        "le.inverse_transform([0,1,2])"
      ],
      "metadata": {
        "colab": {
          "base_uri": "https://localhost:8080/"
        },
        "id": "1y_201D13iFC",
        "outputId": "c545b430-10fd-4afe-b09e-ca88bb3fc17b"
      },
      "execution_count": 12,
      "outputs": [
        {
          "output_type": "execute_result",
          "data": {
            "text/plain": [
              "array(['Amarillo', 'Rojo', 'Verde'], dtype=object)"
            ]
          },
          "metadata": {},
          "execution_count": 12
        }
      ]
    },
    {
      "cell_type": "code",
      "source": [
        "for c in X.columns:\n",
        "  X[c]=le.fit_transform(X[c])"
      ],
      "metadata": {
        "colab": {
          "base_uri": "https://localhost:8080/"
        },
        "id": "r1i-YIomkeqO",
        "outputId": "c4f9827f-1e18-4ec5-fe5f-51fc1bb9f36c"
      },
      "execution_count": 13,
      "outputs": [
        {
          "output_type": "stream",
          "name": "stderr",
          "text": [
            "/usr/local/lib/python3.7/dist-packages/ipykernel_launcher.py:2: SettingWithCopyWarning: \n",
            "A value is trying to be set on a copy of a slice from a DataFrame.\n",
            "Try using .loc[row_indexer,col_indexer] = value instead\n",
            "\n",
            "See the caveats in the documentation: https://pandas.pydata.org/pandas-docs/stable/user_guide/indexing.html#returning-a-view-versus-a-copy\n",
            "  \n"
          ]
        }
      ]
    },
    {
      "cell_type": "markdown",
      "source": [
        "##Realiza un análisis general de las features importances a traves de decision trees o random forest."
      ],
      "metadata": {
        "id": "tIJj9q_D34gr"
      }
    },
    {
      "cell_type": "code",
      "source": [
        "rnd_clf = RandomForestClassifier(n_estimators=500, random_state=42)\n",
        "rnd_clf.fit(X, y)\n",
        "for score, name in zip(rnd_clf.feature_importances_, X.columns):\n",
        "  print(round(score, 2),name)"
      ],
      "metadata": {
        "colab": {
          "base_uri": "https://localhost:8080/"
        },
        "id": "avFHg1Hrk60i",
        "outputId": "a8665562-ebcd-4ef8-a339-cca66190c2bd"
      },
      "execution_count": 14,
      "outputs": [
        {
          "output_type": "stream",
          "name": "stderr",
          "text": [
            "/usr/local/lib/python3.7/dist-packages/ipykernel_launcher.py:2: DataConversionWarning: A column-vector y was passed when a 1d array was expected. Please change the shape of y to (n_samples,), for example using ravel().\n",
            "  \n"
          ]
        },
        {
          "output_type": "stream",
          "name": "stdout",
          "text": [
            "0.01 CLAVE\n",
            "0.0 SITIO\n",
            "0.0 ORGANISMO_DE_CUENCA\n",
            "0.0 ESTADO\n",
            "0.01 MUNICIPIO\n",
            "0.0 ACUIFERO\n",
            "0.0 SUBTIPO\n",
            "0.01 LONGITUD\n",
            "0.01 LATITUD\n",
            "0.0 PERIODO\n",
            "0.01 ALC_mg/L\n",
            "0.0 CALIDAD_ALC\n",
            "0.03 CONDUCT_mS/cm\n",
            "0.0 CALIDAD_CONDUC\n",
            "0.03 SDT_M_mg/L\n",
            "0.01 CALIDAD_SDT_ra\n",
            "0.01 CALIDAD_SDT_salin\n",
            "0.08 FLUORUROS_mg/L\n",
            "0.07 CALIDAD_FLUO\n",
            "0.05 DUR_mg/L\n",
            "0.05 CALIDAD_DUR\n",
            "0.04 COLI_FEC_NMP/100_mL\n",
            "0.01 CALIDAD_COLI_FEC\n",
            "0.04 N_NO3_mg/L\n",
            "0.04 CALIDAD_N_NO3\n",
            "0.05 AS_TOT_mg/L\n",
            "0.01 CALIDAD_AS\n",
            "0.0 CD_TOT_mg/L\n",
            "0.0 CALIDAD_CD\n",
            "0.01 CR_TOT_mg/L\n",
            "0.01 CALIDAD_CR\n",
            "0.0 HG_TOT_mg/L\n",
            "0.0 CALIDAD_HG\n",
            "0.01 PB_TOT_mg/L\n",
            "0.0 CALIDAD_PB\n",
            "0.03 MN_TOT_mg/L\n",
            "0.02 CALIDAD_MN\n",
            "0.03 FE_TOT_mg/L\n",
            "0.02 CALIDAD_FE\n",
            "0.01 CUMPLE_CON_ALC\n",
            "0.01 CUMPLE_CON_COND\n",
            "0.0 CUMPLE_CON_SDT_ra\n",
            "0.0 CUMPLE_CON_SDT_salin\n",
            "0.07 CUMPLE_CON_FLUO\n",
            "0.04 CUMPLE_CON_DUR\n",
            "0.04 CUMPLE_CON_CF\n",
            "0.03 CUMPLE_CON_NO3\n",
            "0.04 CUMPLE_CON_AS\n",
            "0.0 CUMPLE_CON_CD\n",
            "0.01 CUMPLE_CON_CR\n",
            "0.0 CUMPLE_CON_HG\n",
            "0.0 CUMPLE_CON_PB\n",
            "0.02 CUMPLE_CON_MN\n",
            "0.02 CUMPLE_CON_FE\n"
          ]
        }
      ]
    },
    {
      "cell_type": "markdown",
      "source": [
        "##Selecciona las variables de mayor importancia."
      ],
      "metadata": {
        "id": "PSI3SLk6zxQI"
      }
    },
    {
      "cell_type": "code",
      "source": [
        "#0.01 CLAVE\n",
        "#0.01 MUNICIPIO\n",
        "#0.01 LONGITUD\n",
        "#0.01 LATITUD\n",
        "#0.01 ALC_mg/L\n",
        "#0.01 CALIDAD_SDT_ra\n",
        "#0.01 CALIDAD_SDT_salin\n",
        "#0.01 CALIDAD_COLI_FEC\n",
        "#0.01 CALIDAD_AS\n",
        "#0.01 CR_TOT_mg/L\n",
        "#0.01 CALIDAD_CR\n",
        "#0.01 PB_TOT_mg/L\n",
        "#0.01 CUMPLE_CON_ALC\n",
        "#0.01 CUMPLE_CON_COND\n",
        "#0.01 CUMPLE_CON_CR\n",
        "\n",
        "#0.03 CONDUCT_mS/cm\n",
        "#0.03 SDT_M_mg/L\n",
        "#0.08 FLUORUROS_mg/L\n",
        "#0.07 CALIDAD_FLUO\n",
        "#0.05 DUR_mg/L\n",
        "#0.05 CALIDAD_DUR\n",
        "#0.04 COLI_FEC_NMP/100_mL\n",
        "#0.04 N_NO3_mg/L\n",
        "#0.04 CALIDAD_N_NO3\n",
        "#0.05 AS_TOT_mg/L\n",
        "#0.03 MN_TOT_mg/L\n",
        "#0.02 CALIDAD_MN\n",
        "#0.03 FE_TOT_mg/L\n",
        "#0.02 CALIDAD_FE\n",
        "#0.07 CUMPLE_CON_FLUO\n",
        "#0.04 CUMPLE_CON_DUR\n",
        "#0.04 CUMPLE_CON_CF\n",
        "#0.03 CUMPLE_CON_NO3\n",
        "#0.04 CUMPLE_CON_AS\n",
        "#0.02 CUMPLE_CON_MN\n",
        "#0.02 CUMPLE_CON_FE\n"
      ],
      "metadata": {
        "id": "4AtD8G6glXX8"
      },
      "execution_count": 15,
      "outputs": []
    },
    {
      "cell_type": "code",
      "source": [
        "X = ndf[['CONDUCT_mS/cm','SDT_M_mg/L','FLUORUROS_mg/L','CALIDAD_FLUO','DUR_mg/L',\n",
        "        'CALIDAD_DUR','COLI_FEC_NMP/100_mL','N_NO3_mg/L','CALIDAD_N_NO3','AS_TOT_mg/L',\n",
        "        'MN_TOT_mg/L','CALIDAD_MN','FE_TOT_mg/L','CALIDAD_FE','CUMPLE_CON_FLUO',\n",
        "        'CUMPLE_CON_DUR','CUMPLE_CON_CF','CUMPLE_CON_NO3','CUMPLE_CON_AS','CUMPLE_CON_MN',\n",
        "        'CUMPLE_CON_FE']]"
      ],
      "metadata": {
        "id": "oB2LJJNPpY5R"
      },
      "execution_count": 16,
      "outputs": []
    },
    {
      "cell_type": "code",
      "source": [
        "for c in X.columns:\n",
        "  X[c]=le.fit_transform(X[c])"
      ],
      "metadata": {
        "colab": {
          "base_uri": "https://localhost:8080/"
        },
        "id": "45OhxFUJsjPR",
        "outputId": "a69e7f5e-27bc-44a2-8dfe-d43be2286479"
      },
      "execution_count": 18,
      "outputs": [
        {
          "output_type": "stream",
          "name": "stderr",
          "text": [
            "/usr/local/lib/python3.7/dist-packages/ipykernel_launcher.py:2: SettingWithCopyWarning: \n",
            "A value is trying to be set on a copy of a slice from a DataFrame.\n",
            "Try using .loc[row_indexer,col_indexer] = value instead\n",
            "\n",
            "See the caveats in the documentation: https://pandas.pydata.org/pandas-docs/stable/user_guide/indexing.html#returning-a-view-versus-a-copy\n",
            "  \n"
          ]
        }
      ]
    },
    {
      "cell_type": "markdown",
      "source": [
        "##Realiza tu clasificador, recuerda dividir los datos de manera balanceada (auxiliate de train test split)"
      ],
      "metadata": {
        "id": "GAP1aI-Hq6tw"
      }
    },
    {
      "cell_type": "code",
      "source": [
        "from sklearn.tree import DecisionTreeClassifier\n",
        "\n",
        "X_train, X_test, y_train, y_test = train_test_split(X, y, test_size=.2, stratify=y, random_state=42)\n",
        "\n",
        "voting_clf = VotingClassifier(\n",
        "    estimators=[\n",
        "        ('lr', LogisticRegression(random_state=42)),\n",
        "        ('rf', RandomForestClassifier(random_state=42)),\n",
        "        ('svc', SVC(max_iter=100000, random_state=42)),\n",
        "        ('dt', DecisionTreeClassifier( random_state=42))\n",
        "    ]\n",
        ")\n",
        "voting_clf.fit(X_train, y_train)"
      ],
      "metadata": {
        "id": "dcwo0lXfzc2B",
        "colab": {
          "base_uri": "https://localhost:8080/"
        },
        "outputId": "93f58456-628a-4bf7-8438-d22b88d8dbf8"
      },
      "execution_count": 28,
      "outputs": [
        {
          "output_type": "stream",
          "name": "stderr",
          "text": [
            "/usr/local/lib/python3.7/dist-packages/sklearn/preprocessing/_label.py:98: DataConversionWarning: A column-vector y was passed when a 1d array was expected. Please change the shape of y to (n_samples, ), for example using ravel().\n",
            "  y = column_or_1d(y, warn=True)\n",
            "/usr/local/lib/python3.7/dist-packages/sklearn/preprocessing/_label.py:133: DataConversionWarning: A column-vector y was passed when a 1d array was expected. Please change the shape of y to (n_samples, ), for example using ravel().\n",
            "  y = column_or_1d(y, warn=True)\n",
            "/usr/local/lib/python3.7/dist-packages/sklearn/linear_model/_logistic.py:818: ConvergenceWarning: lbfgs failed to converge (status=1):\n",
            "STOP: TOTAL NO. of ITERATIONS REACHED LIMIT.\n",
            "\n",
            "Increase the number of iterations (max_iter) or scale the data as shown in:\n",
            "    https://scikit-learn.org/stable/modules/preprocessing.html\n",
            "Please also refer to the documentation for alternative solver options:\n",
            "    https://scikit-learn.org/stable/modules/linear_model.html#logistic-regression\n",
            "  extra_warning_msg=_LOGISTIC_SOLVER_CONVERGENCE_MSG,\n"
          ]
        },
        {
          "output_type": "execute_result",
          "data": {
            "text/plain": [
              "VotingClassifier(estimators=[('lr', LogisticRegression(random_state=42)),\n",
              "                             ('rf', RandomForestClassifier(random_state=42)),\n",
              "                             ('svc', SVC(max_iter=100000, random_state=42)),\n",
              "                             ('dt', DecisionTreeClassifier(random_state=42))])"
            ]
          },
          "metadata": {},
          "execution_count": 28
        }
      ]
    },
    {
      "cell_type": "markdown",
      "source": [
        "##Explora que clasificador es el más optimo, ejemplo: Decision trees, Random Forest."
      ],
      "metadata": {
        "id": "UvreCD97tphA"
      }
    },
    {
      "cell_type": "code",
      "source": [
        "for name, clf in voting_clf.named_estimators_.items():\n",
        "    print(name, \"=\", clf.score(X_test, y_test))"
      ],
      "metadata": {
        "colab": {
          "base_uri": "https://localhost:8080/"
        },
        "id": "dfv1BRrCdFJW",
        "outputId": "0f3b4c5e-78ae-4019-c5ef-3dee313daf75"
      },
      "execution_count": 29,
      "outputs": [
        {
          "output_type": "stream",
          "name": "stdout",
          "text": [
            "lr = 0.6495327102803738\n",
            "rf = 0.9579439252336449\n",
            "svc = 0.8037383177570093\n",
            "dt = 0.9112149532710281\n"
          ]
        }
      ]
    },
    {
      "cell_type": "markdown",
      "source": [
        "\n",
        "\n",
        "Determina el grado de exactitud a través del reporte de clasificación y análisis de la gráfica de Precision Recall.\n",
        "\n",
        "Visualiza los resultados del modelo o las predicciones a través de una matriz de confusión.\n",
        "\n",
        "Realiza un reporte de los principales hallazgos y conclusiones del experimento e incluyelos en una presentación ejecutiva de 10 diapositivas. La presentación deberá incluir todos los pasos del pipeline seguidos, limpieza, análisis, kmeans, clasificación, resultados y conclusiones."
      ],
      "metadata": {
        "id": "gAmo7JZ8rBtB"
      }
    },
    {
      "cell_type": "code",
      "source": [],
      "metadata": {
        "id": "8B2CPNwKdHcC"
      },
      "execution_count": null,
      "outputs": []
    },
    {
      "cell_type": "code",
      "source": [],
      "metadata": {
        "id": "CF5auz3Qk67s"
      },
      "execution_count": null,
      "outputs": []
    },
    {
      "cell_type": "code",
      "source": [],
      "metadata": {
        "id": "yzUD95Etk7Gl"
      },
      "execution_count": null,
      "outputs": []
    }
  ]
}