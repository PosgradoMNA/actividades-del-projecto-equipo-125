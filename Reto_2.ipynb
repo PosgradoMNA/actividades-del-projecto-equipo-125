{
  "nbformat": 4,
  "nbformat_minor": 0,
  "metadata": {
    "colab": {
      "provenance": [],
      "include_colab_link": true
    },
    "kernelspec": {
      "name": "python3",
      "display_name": "Python 3"
    },
    "language_info": {
      "name": "python"
    }
  },
  "cells": [
    {
      "cell_type": "markdown",
      "metadata": {
        "id": "view-in-github",
        "colab_type": "text"
      },
      "source": [
        "<a href=\"https://colab.research.google.com/github/PosgradoMNA/actividades-del-projecto-equipo-125/blob/main/Reto_2.ipynb\" target=\"_parent\"><img src=\"https://colab.research.google.com/assets/colab-badge.svg\" alt=\"Open In Colab\"/></a>"
      ]
    },
    {
      "cell_type": "markdown",
      "source": [
        "#Reto, 2da entrega\n",
        "Estefania Abigail Castro Belmont A01332636\n",
        "\n",
        "Vladimir Salazar Altamirano A01793118\n",
        "\n",
        "Materia: Ciencia y analítica de datos\n",
        "\n",
        "Profesor: Maria de la Paz Rico\n",
        "\n",
        "Tutor: Julio César Galindo López\n",
        "\n",
        "18/11/2022"
      ],
      "metadata": {
        "id": "hnl0U96TvdxN"
      }
    },
    {
      "cell_type": "markdown",
      "source": [
        "Clasificación\n",
        "En esta base de datos encontraras:\n",
        "\n",
        "**Aguas subterráneas**\n",
        "\n",
        "Utilizando la base de datos que hayas elegido y hayas realizado su limpieza en la anterior entrega del reto, realiza lo siguiente:\n",
        "\n",
        "Selecciona tus variables independientes X y dependiente Y (semáforo)\n",
        "\n",
        "Cambia a label encoding el semáforo, ej, de [\"clase 1\", \"clase 2\", \"clase 3\"] a [ 1,2,3]\n",
        "\n",
        "Realiza un análisis general de las features importances a traves de decision trees o random forest.\n",
        "\n",
        "Selecciona las variables de mayor importancia.\n",
        "\n",
        "Realiza tu clasificador, recuerda dividir los datos de manera balanceada (auxiliate de train test split)\n",
        "\n",
        "Explora que clasificador es el más optimo, ejemplo:\n",
        "Decision trees\n",
        "\n",
        "Random Forest.\n",
        "\n",
        "Determina el grado de exactitud a través del reporte de clasificación y análisis de la gráfica de Precision Recall.\n",
        "\n",
        "Visualiza los resultados del modelo o las predicciones a través de una matriz de confusión.\n",
        "\n",
        "Realiza un reporte de los principales hallazgos y conclusiones del experimento e incluyelos en una presentación ejecutiva de 10 diapositivas. La presentación deberá incluir todos los pasos del pipeline seguidos, limpieza, análisis, kmeans, clasificación, resultados y conclusiones."
      ],
      "metadata": {
        "id": "ny8VwwhjrZl-"
      }
    },
    {
      "cell_type": "markdown",
      "source": [
        "##Base de datos de aguas subterraneas"
      ],
      "metadata": {
        "id": "7GV0yLz8zmfk"
      }
    },
    {
      "cell_type": "code",
      "source": [
        "import pandas as pd\n",
        "import numpy as np\n",
        "from sklearn.ensemble import RandomForestClassifier, VotingClassifier\n",
        "from sklearn.linear_model import LogisticRegression\n",
        "from sklearn.model_selection import train_test_split\n",
        "from sklearn.svm import SVC\n",
        "import matplotlib.pyplot as plt"
      ],
      "metadata": {
        "id": "JBFTwFGcwKy9"
      },
      "execution_count": 1,
      "outputs": []
    },
    {
      "cell_type": "code",
      "source": [
        "df = pd.read_csv('https://raw.githubusercontent.com/PosgradoMNA/actividades-del-projecto-equipo-125/main/Datos_de_calidad_del_agua_de_sitios_de_monitoreo_de_aguas_subterraneas_2020.csv',\n",
        "                 sep=',',\n",
        "                 encoding='cp1252')\n",
        "                 \n",
        "df.head()"
      ],
      "metadata": {
        "colab": {
          "base_uri": "https://localhost:8080/",
          "height": 421
        },
        "id": "_QfzcKoLwLAk",
        "outputId": "7fb9b299-6b89-46e0-a01e-cbf7ab4d0efb"
      },
      "execution_count": 2,
      "outputs": [
        {
          "output_type": "execute_result",
          "data": {
            "text/plain": [
              "       CLAVE                   SITIO           ORGANISMO_DE_CUENCA  \\\n",
              "0     DLAGU6            POZO SAN GIL       LERMA SANTIAGO PACIFICO   \n",
              "1  DLAGU6516  POZO R013 CAÑADA HONDA       LERMA SANTIAGO PACIFICO   \n",
              "2     DLAGU7              POZO COSIO       LERMA SANTIAGO PACIFICO   \n",
              "3     DLAGU9      POZO EL SALITRILLO       LERMA SANTIAGO PACIFICO   \n",
              "4   DLBAJ107      RANCHO EL TECOLOTE  PENINSULA DE BAJA CALIFORNIA   \n",
              "\n",
              "                ESTADO        MUNICIPIO                 ACUIFERO SUBTIPO  \\\n",
              "0       AGUASCALIENTES         ASIENTOS       VALLE DE CHICALOTE    POZO   \n",
              "1       AGUASCALIENTES   AGUASCALIENTES       VALLE DE CHICALOTE    POZO   \n",
              "2       AGUASCALIENTES            COSIO  VALLE DE AGUASCALIENTES    POZO   \n",
              "3       AGUASCALIENTES  RINCON DE ROMOS  VALLE DE AGUASCALIENTES    POZO   \n",
              "4  BAJA CALIFORNIA SUR           LA PAZ             TODOS SANTOS    POZO   \n",
              "\n",
              "    LONGITUD   LATITUD  PERIODO  ...  CUMPLE_CON_DUR CUMPLE_CON_CF  \\\n",
              "0 -102.02210  22.20887     2020  ...              SI            SI   \n",
              "1 -102.20075  21.99958     2020  ...              SI            SI   \n",
              "2 -102.28801  22.36685     2020  ...              SI            SI   \n",
              "3 -102.29449  22.18435     2020  ...              SI            SI   \n",
              "4 -110.24480  23.45138     2020  ...              SI            SI   \n",
              "\n",
              "   CUMPLE_CON_NO3 CUMPLE_CON_AS  CUMPLE_CON_CD CUMPLE_CON_CR CUMPLE_CON_HG  \\\n",
              "0              SI            SI             SI            SI            SI   \n",
              "1              SI            SI             SI            SI            SI   \n",
              "2              SI            NO             SI            SI            SI   \n",
              "3              SI            SI             SI            SI            SI   \n",
              "4              NO            SI             SI            SI            SI   \n",
              "\n",
              "  CUMPLE_CON_PB CUMPLE_CON_MN CUMPLE_CON_FE  \n",
              "0            SI            SI            SI  \n",
              "1            SI            SI            SI  \n",
              "2            SI            SI            SI  \n",
              "3            SI            SI            SI  \n",
              "4            SI            SI            SI  \n",
              "\n",
              "[5 rows x 57 columns]"
            ],
            "text/html": [
              "\n",
              "  <div id=\"df-0a6bc5f2-c4a7-41c6-9053-f0b94353b0b7\">\n",
              "    <div class=\"colab-df-container\">\n",
              "      <div>\n",
              "<style scoped>\n",
              "    .dataframe tbody tr th:only-of-type {\n",
              "        vertical-align: middle;\n",
              "    }\n",
              "\n",
              "    .dataframe tbody tr th {\n",
              "        vertical-align: top;\n",
              "    }\n",
              "\n",
              "    .dataframe thead th {\n",
              "        text-align: right;\n",
              "    }\n",
              "</style>\n",
              "<table border=\"1\" class=\"dataframe\">\n",
              "  <thead>\n",
              "    <tr style=\"text-align: right;\">\n",
              "      <th></th>\n",
              "      <th>CLAVE</th>\n",
              "      <th>SITIO</th>\n",
              "      <th>ORGANISMO_DE_CUENCA</th>\n",
              "      <th>ESTADO</th>\n",
              "      <th>MUNICIPIO</th>\n",
              "      <th>ACUIFERO</th>\n",
              "      <th>SUBTIPO</th>\n",
              "      <th>LONGITUD</th>\n",
              "      <th>LATITUD</th>\n",
              "      <th>PERIODO</th>\n",
              "      <th>...</th>\n",
              "      <th>CUMPLE_CON_DUR</th>\n",
              "      <th>CUMPLE_CON_CF</th>\n",
              "      <th>CUMPLE_CON_NO3</th>\n",
              "      <th>CUMPLE_CON_AS</th>\n",
              "      <th>CUMPLE_CON_CD</th>\n",
              "      <th>CUMPLE_CON_CR</th>\n",
              "      <th>CUMPLE_CON_HG</th>\n",
              "      <th>CUMPLE_CON_PB</th>\n",
              "      <th>CUMPLE_CON_MN</th>\n",
              "      <th>CUMPLE_CON_FE</th>\n",
              "    </tr>\n",
              "  </thead>\n",
              "  <tbody>\n",
              "    <tr>\n",
              "      <th>0</th>\n",
              "      <td>DLAGU6</td>\n",
              "      <td>POZO SAN GIL</td>\n",
              "      <td>LERMA SANTIAGO PACIFICO</td>\n",
              "      <td>AGUASCALIENTES</td>\n",
              "      <td>ASIENTOS</td>\n",
              "      <td>VALLE DE CHICALOTE</td>\n",
              "      <td>POZO</td>\n",
              "      <td>-102.02210</td>\n",
              "      <td>22.20887</td>\n",
              "      <td>2020</td>\n",
              "      <td>...</td>\n",
              "      <td>SI</td>\n",
              "      <td>SI</td>\n",
              "      <td>SI</td>\n",
              "      <td>SI</td>\n",
              "      <td>SI</td>\n",
              "      <td>SI</td>\n",
              "      <td>SI</td>\n",
              "      <td>SI</td>\n",
              "      <td>SI</td>\n",
              "      <td>SI</td>\n",
              "    </tr>\n",
              "    <tr>\n",
              "      <th>1</th>\n",
              "      <td>DLAGU6516</td>\n",
              "      <td>POZO R013 CAÑADA HONDA</td>\n",
              "      <td>LERMA SANTIAGO PACIFICO</td>\n",
              "      <td>AGUASCALIENTES</td>\n",
              "      <td>AGUASCALIENTES</td>\n",
              "      <td>VALLE DE CHICALOTE</td>\n",
              "      <td>POZO</td>\n",
              "      <td>-102.20075</td>\n",
              "      <td>21.99958</td>\n",
              "      <td>2020</td>\n",
              "      <td>...</td>\n",
              "      <td>SI</td>\n",
              "      <td>SI</td>\n",
              "      <td>SI</td>\n",
              "      <td>SI</td>\n",
              "      <td>SI</td>\n",
              "      <td>SI</td>\n",
              "      <td>SI</td>\n",
              "      <td>SI</td>\n",
              "      <td>SI</td>\n",
              "      <td>SI</td>\n",
              "    </tr>\n",
              "    <tr>\n",
              "      <th>2</th>\n",
              "      <td>DLAGU7</td>\n",
              "      <td>POZO COSIO</td>\n",
              "      <td>LERMA SANTIAGO PACIFICO</td>\n",
              "      <td>AGUASCALIENTES</td>\n",
              "      <td>COSIO</td>\n",
              "      <td>VALLE DE AGUASCALIENTES</td>\n",
              "      <td>POZO</td>\n",
              "      <td>-102.28801</td>\n",
              "      <td>22.36685</td>\n",
              "      <td>2020</td>\n",
              "      <td>...</td>\n",
              "      <td>SI</td>\n",
              "      <td>SI</td>\n",
              "      <td>SI</td>\n",
              "      <td>NO</td>\n",
              "      <td>SI</td>\n",
              "      <td>SI</td>\n",
              "      <td>SI</td>\n",
              "      <td>SI</td>\n",
              "      <td>SI</td>\n",
              "      <td>SI</td>\n",
              "    </tr>\n",
              "    <tr>\n",
              "      <th>3</th>\n",
              "      <td>DLAGU9</td>\n",
              "      <td>POZO EL SALITRILLO</td>\n",
              "      <td>LERMA SANTIAGO PACIFICO</td>\n",
              "      <td>AGUASCALIENTES</td>\n",
              "      <td>RINCON DE ROMOS</td>\n",
              "      <td>VALLE DE AGUASCALIENTES</td>\n",
              "      <td>POZO</td>\n",
              "      <td>-102.29449</td>\n",
              "      <td>22.18435</td>\n",
              "      <td>2020</td>\n",
              "      <td>...</td>\n",
              "      <td>SI</td>\n",
              "      <td>SI</td>\n",
              "      <td>SI</td>\n",
              "      <td>SI</td>\n",
              "      <td>SI</td>\n",
              "      <td>SI</td>\n",
              "      <td>SI</td>\n",
              "      <td>SI</td>\n",
              "      <td>SI</td>\n",
              "      <td>SI</td>\n",
              "    </tr>\n",
              "    <tr>\n",
              "      <th>4</th>\n",
              "      <td>DLBAJ107</td>\n",
              "      <td>RANCHO EL TECOLOTE</td>\n",
              "      <td>PENINSULA DE BAJA CALIFORNIA</td>\n",
              "      <td>BAJA CALIFORNIA SUR</td>\n",
              "      <td>LA PAZ</td>\n",
              "      <td>TODOS SANTOS</td>\n",
              "      <td>POZO</td>\n",
              "      <td>-110.24480</td>\n",
              "      <td>23.45138</td>\n",
              "      <td>2020</td>\n",
              "      <td>...</td>\n",
              "      <td>SI</td>\n",
              "      <td>SI</td>\n",
              "      <td>NO</td>\n",
              "      <td>SI</td>\n",
              "      <td>SI</td>\n",
              "      <td>SI</td>\n",
              "      <td>SI</td>\n",
              "      <td>SI</td>\n",
              "      <td>SI</td>\n",
              "      <td>SI</td>\n",
              "    </tr>\n",
              "  </tbody>\n",
              "</table>\n",
              "<p>5 rows × 57 columns</p>\n",
              "</div>\n",
              "      <button class=\"colab-df-convert\" onclick=\"convertToInteractive('df-0a6bc5f2-c4a7-41c6-9053-f0b94353b0b7')\"\n",
              "              title=\"Convert this dataframe to an interactive table.\"\n",
              "              style=\"display:none;\">\n",
              "        \n",
              "  <svg xmlns=\"http://www.w3.org/2000/svg\" height=\"24px\"viewBox=\"0 0 24 24\"\n",
              "       width=\"24px\">\n",
              "    <path d=\"M0 0h24v24H0V0z\" fill=\"none\"/>\n",
              "    <path d=\"M18.56 5.44l.94 2.06.94-2.06 2.06-.94-2.06-.94-.94-2.06-.94 2.06-2.06.94zm-11 1L8.5 8.5l.94-2.06 2.06-.94-2.06-.94L8.5 2.5l-.94 2.06-2.06.94zm10 10l.94 2.06.94-2.06 2.06-.94-2.06-.94-.94-2.06-.94 2.06-2.06.94z\"/><path d=\"M17.41 7.96l-1.37-1.37c-.4-.4-.92-.59-1.43-.59-.52 0-1.04.2-1.43.59L10.3 9.45l-7.72 7.72c-.78.78-.78 2.05 0 2.83L4 21.41c.39.39.9.59 1.41.59.51 0 1.02-.2 1.41-.59l7.78-7.78 2.81-2.81c.8-.78.8-2.07 0-2.86zM5.41 20L4 18.59l7.72-7.72 1.47 1.35L5.41 20z\"/>\n",
              "  </svg>\n",
              "      </button>\n",
              "      \n",
              "  <style>\n",
              "    .colab-df-container {\n",
              "      display:flex;\n",
              "      flex-wrap:wrap;\n",
              "      gap: 12px;\n",
              "    }\n",
              "\n",
              "    .colab-df-convert {\n",
              "      background-color: #E8F0FE;\n",
              "      border: none;\n",
              "      border-radius: 50%;\n",
              "      cursor: pointer;\n",
              "      display: none;\n",
              "      fill: #1967D2;\n",
              "      height: 32px;\n",
              "      padding: 0 0 0 0;\n",
              "      width: 32px;\n",
              "    }\n",
              "\n",
              "    .colab-df-convert:hover {\n",
              "      background-color: #E2EBFA;\n",
              "      box-shadow: 0px 1px 2px rgba(60, 64, 67, 0.3), 0px 1px 3px 1px rgba(60, 64, 67, 0.15);\n",
              "      fill: #174EA6;\n",
              "    }\n",
              "\n",
              "    [theme=dark] .colab-df-convert {\n",
              "      background-color: #3B4455;\n",
              "      fill: #D2E3FC;\n",
              "    }\n",
              "\n",
              "    [theme=dark] .colab-df-convert:hover {\n",
              "      background-color: #434B5C;\n",
              "      box-shadow: 0px 1px 3px 1px rgba(0, 0, 0, 0.15);\n",
              "      filter: drop-shadow(0px 1px 2px rgba(0, 0, 0, 0.3));\n",
              "      fill: #FFFFFF;\n",
              "    }\n",
              "  </style>\n",
              "\n",
              "      <script>\n",
              "        const buttonEl =\n",
              "          document.querySelector('#df-0a6bc5f2-c4a7-41c6-9053-f0b94353b0b7 button.colab-df-convert');\n",
              "        buttonEl.style.display =\n",
              "          google.colab.kernel.accessAllowed ? 'block' : 'none';\n",
              "\n",
              "        async function convertToInteractive(key) {\n",
              "          const element = document.querySelector('#df-0a6bc5f2-c4a7-41c6-9053-f0b94353b0b7');\n",
              "          const dataTable =\n",
              "            await google.colab.kernel.invokeFunction('convertToInteractive',\n",
              "                                                     [key], {});\n",
              "          if (!dataTable) return;\n",
              "\n",
              "          const docLinkHtml = 'Like what you see? Visit the ' +\n",
              "            '<a target=\"_blank\" href=https://colab.research.google.com/notebooks/data_table.ipynb>data table notebook</a>'\n",
              "            + ' to learn more about interactive tables.';\n",
              "          element.innerHTML = '';\n",
              "          dataTable['output_type'] = 'display_data';\n",
              "          await google.colab.output.renderOutput(dataTable, element);\n",
              "          const docLink = document.createElement('div');\n",
              "          docLink.innerHTML = docLinkHtml;\n",
              "          element.appendChild(docLink);\n",
              "        }\n",
              "      </script>\n",
              "    </div>\n",
              "  </div>\n",
              "  "
            ]
          },
          "metadata": {},
          "execution_count": 2
        }
      ]
    },
    {
      "cell_type": "markdown",
      "source": [
        "##Limpieza anterior"
      ],
      "metadata": {
        "id": "3D8mfaBlzpqa"
      }
    },
    {
      "cell_type": "code",
      "source": [
        "#Eliminamos las columnas con mayor cantidad de datos nulos.\n",
        "ndf = df.copy()\n",
        "ndf.drop(columns=['SDT_mg/L','CONTAMINANTES'], inplace=True)"
      ],
      "metadata": {
        "id": "CvZ5aM-0wLK3"
      },
      "execution_count": 3,
      "outputs": []
    },
    {
      "cell_type": "code",
      "source": [
        "#Hacemos una lista con las columnas numéricas.\n",
        "#Se le quita el \"<\" para Phyton pueda leer esos datos como numéricos.\n",
        "num_posibles=[\"SDT_M_mg/L\",\"FLUORUROS_mg/L\",\"DUR_mg/L\",\"COLI_FEC_NMP/100_mL\",\n",
        "              \"N_NO3_mg/L\",\"AS_TOT_mg/L\",\"CD_TOT_mg/L\",\"CR_TOT_mg/L\",\n",
        "              \"HG_TOT_mg/L\",\"PB_TOT_mg/L\",\"MN_TOT_mg/L\",\"FE_TOT_mg/L\"]\n",
        "\n",
        "ndf[num_posibles]=ndf[num_posibles].replace({'<':''}, regex=True)\n",
        "ndf[num_posibles]=ndf[num_posibles].astype(float)"
      ],
      "metadata": {
        "id": "IdtXqZ4ly-dc"
      },
      "execution_count": 4,
      "outputs": []
    },
    {
      "cell_type": "code",
      "source": [
        "#Todas las columnas de tipo objeto, las añadimos a las de tipo cualitativo.\n",
        "#Son dos listas, una para datos de tipo numérico, y otra para tipo cualitativo.\n",
        "cual_col=[]\n",
        "num_col=[]\n",
        "for n in ndf:\n",
        "  if (ndf[n].dtype)=='object':\n",
        "    cual_col.append(n)\n",
        "  else:\n",
        "    num_col.append(n)"
      ],
      "metadata": {
        "id": "Puz8peJFyy8R"
      },
      "execution_count": 5,
      "outputs": []
    },
    {
      "cell_type": "code",
      "source": [
        "#Las numéricas las completamos con la media, y las categóricas con la moda.\n",
        "for c in num_col:\n",
        "  ndf[c]=ndf[c].fillna(ndf[c].median())\n",
        "for c in cual_col:\n",
        "  ndf[c]=ndf[c].fillna(ndf[c].mode()[0])"
      ],
      "metadata": {
        "id": "eLEy0KyOwLUX"
      },
      "execution_count": 6,
      "outputs": []
    },
    {
      "cell_type": "code",
      "source": [
        "#Checamos si ya no hay datos nulos.\n",
        "ndf.isnull().sum()"
      ],
      "metadata": {
        "colab": {
          "base_uri": "https://localhost:8080/"
        },
        "id": "l6ynJ_IRza-Y",
        "outputId": "e86d1aab-5edd-40f1-c0fc-ed39e7e2abe4"
      },
      "execution_count": 7,
      "outputs": [
        {
          "output_type": "execute_result",
          "data": {
            "text/plain": [
              "CLAVE                   0\n",
              "SITIO                   0\n",
              "ORGANISMO_DE_CUENCA     0\n",
              "ESTADO                  0\n",
              "MUNICIPIO               0\n",
              "ACUIFERO                0\n",
              "SUBTIPO                 0\n",
              "LONGITUD                0\n",
              "LATITUD                 0\n",
              "PERIODO                 0\n",
              "ALC_mg/L                0\n",
              "CALIDAD_ALC             0\n",
              "CONDUCT_mS/cm           0\n",
              "CALIDAD_CONDUC          0\n",
              "SDT_M_mg/L              0\n",
              "CALIDAD_SDT_ra          0\n",
              "CALIDAD_SDT_salin       0\n",
              "FLUORUROS_mg/L          0\n",
              "CALIDAD_FLUO            0\n",
              "DUR_mg/L                0\n",
              "CALIDAD_DUR             0\n",
              "COLI_FEC_NMP/100_mL     0\n",
              "CALIDAD_COLI_FEC        0\n",
              "N_NO3_mg/L              0\n",
              "CALIDAD_N_NO3           0\n",
              "AS_TOT_mg/L             0\n",
              "CALIDAD_AS              0\n",
              "CD_TOT_mg/L             0\n",
              "CALIDAD_CD              0\n",
              "CR_TOT_mg/L             0\n",
              "CALIDAD_CR              0\n",
              "HG_TOT_mg/L             0\n",
              "CALIDAD_HG              0\n",
              "PB_TOT_mg/L             0\n",
              "CALIDAD_PB              0\n",
              "MN_TOT_mg/L             0\n",
              "CALIDAD_MN              0\n",
              "FE_TOT_mg/L             0\n",
              "CALIDAD_FE              0\n",
              "SEMAFORO                0\n",
              "CUMPLE_CON_ALC          0\n",
              "CUMPLE_CON_COND         0\n",
              "CUMPLE_CON_SDT_ra       0\n",
              "CUMPLE_CON_SDT_salin    0\n",
              "CUMPLE_CON_FLUO         0\n",
              "CUMPLE_CON_DUR          0\n",
              "CUMPLE_CON_CF           0\n",
              "CUMPLE_CON_NO3          0\n",
              "CUMPLE_CON_AS           0\n",
              "CUMPLE_CON_CD           0\n",
              "CUMPLE_CON_CR           0\n",
              "CUMPLE_CON_HG           0\n",
              "CUMPLE_CON_PB           0\n",
              "CUMPLE_CON_MN           0\n",
              "CUMPLE_CON_FE           0\n",
              "dtype: int64"
            ]
          },
          "metadata": {},
          "execution_count": 7
        }
      ]
    },
    {
      "cell_type": "markdown",
      "source": [
        "##Selecciona tus variables independientes X y dependiente Y (semáforo)"
      ],
      "metadata": {
        "id": "3demO-kJz0QY"
      }
    },
    {
      "cell_type": "code",
      "source": [
        "#Dividimos las columnas que usaremos como variables independientes \"X\", y la variable de salida \"Y\".\n",
        "X=ndf[['CLAVE', 'SITIO', 'ORGANISMO_DE_CUENCA', 'ESTADO', 'MUNICIPIO',\n",
        "       'ACUIFERO', 'SUBTIPO', 'LONGITUD', 'LATITUD', 'PERIODO', 'ALC_mg/L',\n",
        "       'CALIDAD_ALC', 'CONDUCT_mS/cm', 'CALIDAD_CONDUC', 'SDT_M_mg/L',\n",
        "       'CALIDAD_SDT_ra', 'CALIDAD_SDT_salin', 'FLUORUROS_mg/L', 'CALIDAD_FLUO',\n",
        "       'DUR_mg/L', 'CALIDAD_DUR', 'COLI_FEC_NMP/100_mL', 'CALIDAD_COLI_FEC',\n",
        "       'N_NO3_mg/L', 'CALIDAD_N_NO3', 'AS_TOT_mg/L', 'CALIDAD_AS',\n",
        "       'CD_TOT_mg/L', 'CALIDAD_CD', 'CR_TOT_mg/L', 'CALIDAD_CR', 'HG_TOT_mg/L',\n",
        "       'CALIDAD_HG', 'PB_TOT_mg/L', 'CALIDAD_PB', 'MN_TOT_mg/L', 'CALIDAD_MN',\n",
        "       'FE_TOT_mg/L', 'CALIDAD_FE', 'CUMPLE_CON_ALC',\n",
        "       'CUMPLE_CON_COND', 'CUMPLE_CON_SDT_ra', 'CUMPLE_CON_SDT_salin',\n",
        "       'CUMPLE_CON_FLUO', 'CUMPLE_CON_DUR', 'CUMPLE_CON_CF', 'CUMPLE_CON_NO3',\n",
        "       'CUMPLE_CON_AS', 'CUMPLE_CON_CD', 'CUMPLE_CON_CR', 'CUMPLE_CON_HG',\n",
        "       'CUMPLE_CON_PB', 'CUMPLE_CON_MN', 'CUMPLE_CON_FE']]\n",
        "y=ndf[['SEMAFORO']]"
      ],
      "metadata": {
        "id": "Opl0wQ-8zwl7"
      },
      "execution_count": 8,
      "outputs": []
    },
    {
      "cell_type": "markdown",
      "source": [
        "##Cambia a label encoding el semáforo, ej, de [\"clase 1\", \"clase 2\", \"clase 3\"] a [ 1,2,3]"
      ],
      "metadata": {
        "id": "uu9i22Xm0Vjc"
      }
    },
    {
      "cell_type": "code",
      "source": [
        "#Usamos label encoder, para convertir las clases del semáforo de categóricas a numéricas.\n",
        "from sklearn import preprocessing\n",
        "le = preprocessing.LabelEncoder()"
      ],
      "metadata": {
        "id": "bsL-0deY0Yq1"
      },
      "execution_count": 9,
      "outputs": []
    },
    {
      "cell_type": "code",
      "source": [
        "#Transformamos las clases.\n",
        "y['SEMAFORO']=le.fit_transform(y['SEMAFORO'])"
      ],
      "metadata": {
        "colab": {
          "base_uri": "https://localhost:8080/"
        },
        "id": "CsBDefnm0YxM",
        "outputId": "bb6f2553-9957-4d4e-f34c-e323b4edf2ac"
      },
      "execution_count": 10,
      "outputs": [
        {
          "output_type": "stream",
          "name": "stderr",
          "text": [
            "/usr/local/lib/python3.7/dist-packages/ipykernel_launcher.py:2: SettingWithCopyWarning: \n",
            "A value is trying to be set on a copy of a slice from a DataFrame.\n",
            "Try using .loc[row_indexer,col_indexer] = value instead\n",
            "\n",
            "See the caveats in the documentation: https://pandas.pydata.org/pandas-docs/stable/user_guide/indexing.html#returning-a-view-versus-a-copy\n",
            "  \n"
          ]
        }
      ]
    },
    {
      "cell_type": "code",
      "source": [
        "#Revisamos qué clases fueron las que se encontraron.\n",
        "le.classes_"
      ],
      "metadata": {
        "colab": {
          "base_uri": "https://localhost:8080/"
        },
        "id": "fWh2QBi03hxB",
        "outputId": "6803e605-5339-4eaf-92bd-86c2271947d2"
      },
      "execution_count": 11,
      "outputs": [
        {
          "output_type": "execute_result",
          "data": {
            "text/plain": [
              "array(['Amarillo', 'Rojo', 'Verde'], dtype=object)"
            ]
          },
          "metadata": {},
          "execution_count": 11
        }
      ]
    },
    {
      "cell_type": "code",
      "source": [
        "#Transformamos a 0, 1, 2.\n",
        "le.inverse_transform([0,1,2])"
      ],
      "metadata": {
        "colab": {
          "base_uri": "https://localhost:8080/"
        },
        "id": "1y_201D13iFC",
        "outputId": "73d0eb5e-f915-48d0-b7c2-bb683f159066"
      },
      "execution_count": 12,
      "outputs": [
        {
          "output_type": "execute_result",
          "data": {
            "text/plain": [
              "array(['Amarillo', 'Rojo', 'Verde'], dtype=object)"
            ]
          },
          "metadata": {},
          "execution_count": 12
        }
      ]
    },
    {
      "cell_type": "code",
      "source": [
        "#Convertimos todas las variables categóricas a numéricas, codificando dichas variables\n",
        "for c in X.columns:\n",
        "  X[c]=le.fit_transform(X[c])"
      ],
      "metadata": {
        "colab": {
          "base_uri": "https://localhost:8080/"
        },
        "id": "r1i-YIomkeqO",
        "outputId": "044200ef-7502-41c3-d2d3-41841703e9f8"
      },
      "execution_count": 13,
      "outputs": [
        {
          "output_type": "stream",
          "name": "stderr",
          "text": [
            "/usr/local/lib/python3.7/dist-packages/ipykernel_launcher.py:3: SettingWithCopyWarning: \n",
            "A value is trying to be set on a copy of a slice from a DataFrame.\n",
            "Try using .loc[row_indexer,col_indexer] = value instead\n",
            "\n",
            "See the caveats in the documentation: https://pandas.pydata.org/pandas-docs/stable/user_guide/indexing.html#returning-a-view-versus-a-copy\n",
            "  This is separate from the ipykernel package so we can avoid doing imports until\n"
          ]
        }
      ]
    },
    {
      "cell_type": "markdown",
      "source": [
        "##Realiza un análisis general de las features importances a traves de decision trees o random forest."
      ],
      "metadata": {
        "id": "tIJj9q_D34gr"
      }
    },
    {
      "cell_type": "code",
      "source": [
        "#Preparamos para hacer un bosque aleatorio\n",
        "#Revisamos la importancia de cada una de las columnas para el algoritmo\n",
        "rnd_clf = RandomForestClassifier(n_estimators=500, random_state=42)\n",
        "rnd_clf.fit(X, y)\n",
        "s=[]\n",
        "n=[]\n",
        "for score, name in zip(rnd_clf.feature_importances_, X.columns):\n",
        "  s.append(score)\n",
        "  n.append(name)\n",
        "  print(round(score, 2),name)"
      ],
      "metadata": {
        "colab": {
          "base_uri": "https://localhost:8080/"
        },
        "id": "avFHg1Hrk60i",
        "outputId": "2acb4d0c-8a19-4bb4-cf2a-4930b6c80a60"
      },
      "execution_count": 14,
      "outputs": [
        {
          "output_type": "stream",
          "name": "stderr",
          "text": [
            "/usr/local/lib/python3.7/dist-packages/ipykernel_launcher.py:4: DataConversionWarning: A column-vector y was passed when a 1d array was expected. Please change the shape of y to (n_samples,), for example using ravel().\n",
            "  after removing the cwd from sys.path.\n"
          ]
        },
        {
          "output_type": "stream",
          "name": "stdout",
          "text": [
            "0.01 CLAVE\n",
            "0.0 SITIO\n",
            "0.0 ORGANISMO_DE_CUENCA\n",
            "0.0 ESTADO\n",
            "0.01 MUNICIPIO\n",
            "0.0 ACUIFERO\n",
            "0.0 SUBTIPO\n",
            "0.01 LONGITUD\n",
            "0.01 LATITUD\n",
            "0.0 PERIODO\n",
            "0.01 ALC_mg/L\n",
            "0.0 CALIDAD_ALC\n",
            "0.03 CONDUCT_mS/cm\n",
            "0.0 CALIDAD_CONDUC\n",
            "0.03 SDT_M_mg/L\n",
            "0.01 CALIDAD_SDT_ra\n",
            "0.01 CALIDAD_SDT_salin\n",
            "0.08 FLUORUROS_mg/L\n",
            "0.07 CALIDAD_FLUO\n",
            "0.05 DUR_mg/L\n",
            "0.05 CALIDAD_DUR\n",
            "0.04 COLI_FEC_NMP/100_mL\n",
            "0.01 CALIDAD_COLI_FEC\n",
            "0.04 N_NO3_mg/L\n",
            "0.04 CALIDAD_N_NO3\n",
            "0.05 AS_TOT_mg/L\n",
            "0.01 CALIDAD_AS\n",
            "0.0 CD_TOT_mg/L\n",
            "0.0 CALIDAD_CD\n",
            "0.01 CR_TOT_mg/L\n",
            "0.01 CALIDAD_CR\n",
            "0.0 HG_TOT_mg/L\n",
            "0.0 CALIDAD_HG\n",
            "0.01 PB_TOT_mg/L\n",
            "0.0 CALIDAD_PB\n",
            "0.03 MN_TOT_mg/L\n",
            "0.02 CALIDAD_MN\n",
            "0.03 FE_TOT_mg/L\n",
            "0.02 CALIDAD_FE\n",
            "0.01 CUMPLE_CON_ALC\n",
            "0.01 CUMPLE_CON_COND\n",
            "0.0 CUMPLE_CON_SDT_ra\n",
            "0.0 CUMPLE_CON_SDT_salin\n",
            "0.07 CUMPLE_CON_FLUO\n",
            "0.04 CUMPLE_CON_DUR\n",
            "0.04 CUMPLE_CON_CF\n",
            "0.03 CUMPLE_CON_NO3\n",
            "0.04 CUMPLE_CON_AS\n",
            "0.0 CUMPLE_CON_CD\n",
            "0.01 CUMPLE_CON_CR\n",
            "0.0 CUMPLE_CON_HG\n",
            "0.0 CUMPLE_CON_PB\n",
            "0.02 CUMPLE_CON_MN\n",
            "0.02 CUMPLE_CON_FE\n"
          ]
        }
      ]
    },
    {
      "cell_type": "code",
      "source": [
        "#Identificamos las variables independientes de mayor relevancia.\n",
        "scores = pd.DataFrame(n,s)\n",
        "scores.sort_index(ascending=False)"
      ],
      "metadata": {
        "colab": {
          "base_uri": "https://localhost:8080/",
          "height": 1000
        },
        "id": "S-SPNFYY8LOQ",
        "outputId": "cbf2eb45-bcbc-4940-fdce-c7318c50e661"
      },
      "execution_count": 15,
      "outputs": [
        {
          "output_type": "execute_result",
          "data": {
            "text/plain": [
              "                             0\n",
              "0.076073        FLUORUROS_mg/L\n",
              "0.072027          CALIDAD_FLUO\n",
              "0.068806       CUMPLE_CON_FLUO\n",
              "0.053134           AS_TOT_mg/L\n",
              "0.052446              DUR_mg/L\n",
              "0.048240           CALIDAD_DUR\n",
              "0.042684   COLI_FEC_NMP/100_mL\n",
              "0.042309        CUMPLE_CON_DUR\n",
              "0.041361            N_NO3_mg/L\n",
              "0.038749         CUMPLE_CON_AS\n",
              "0.038537         CUMPLE_CON_CF\n",
              "0.036452         CALIDAD_N_NO3\n",
              "0.032054        CUMPLE_CON_NO3\n",
              "0.031826            SDT_M_mg/L\n",
              "0.030070           FE_TOT_mg/L\n",
              "0.029255           MN_TOT_mg/L\n",
              "0.027924         CONDUCT_mS/cm\n",
              "0.024555         CUMPLE_CON_FE\n",
              "0.023520            CALIDAD_FE\n",
              "0.020354            CALIDAD_MN\n",
              "0.018942         CUMPLE_CON_MN\n",
              "0.013758            CALIDAD_AS\n",
              "0.013525              ALC_mg/L\n",
              "0.009152               LATITUD\n",
              "0.008376              LONGITUD\n",
              "0.007928           CR_TOT_mg/L\n",
              "0.007155                 CLAVE\n",
              "0.006813      CALIDAD_COLI_FEC\n",
              "0.006225        CUMPLE_CON_ALC\n",
              "0.006098        CALIDAD_SDT_ra\n",
              "0.006070       CUMPLE_CON_COND\n",
              "0.005670             MUNICIPIO\n",
              "0.005631         CUMPLE_CON_CR\n",
              "0.005499            CALIDAD_CR\n",
              "0.005242           PB_TOT_mg/L\n",
              "0.005228     CALIDAD_SDT_salin\n",
              "0.004993              ACUIFERO\n",
              "0.004580                 SITIO\n",
              "0.004344                ESTADO\n",
              "0.004335            CALIDAD_PB\n",
              "0.003875         CUMPLE_CON_PB\n",
              "0.003740   ORGANISMO_DE_CUENCA\n",
              "0.003633        CALIDAD_CONDUC\n",
              "0.002461           HG_TOT_mg/L\n",
              "0.001774           CALIDAD_ALC\n",
              "0.001093     CUMPLE_CON_SDT_ra\n",
              "0.000755  CUMPLE_CON_SDT_salin\n",
              "0.000701               SUBTIPO\n",
              "0.000586         CUMPLE_CON_CD\n",
              "0.000517            CALIDAD_CD\n",
              "0.000489           CD_TOT_mg/L\n",
              "0.000232         CUMPLE_CON_HG\n",
              "0.000206            CALIDAD_HG\n",
              "0.000000               PERIODO"
            ],
            "text/html": [
              "\n",
              "  <div id=\"df-acbf81b8-7f79-4b6f-978c-153e185a8518\">\n",
              "    <div class=\"colab-df-container\">\n",
              "      <div>\n",
              "<style scoped>\n",
              "    .dataframe tbody tr th:only-of-type {\n",
              "        vertical-align: middle;\n",
              "    }\n",
              "\n",
              "    .dataframe tbody tr th {\n",
              "        vertical-align: top;\n",
              "    }\n",
              "\n",
              "    .dataframe thead th {\n",
              "        text-align: right;\n",
              "    }\n",
              "</style>\n",
              "<table border=\"1\" class=\"dataframe\">\n",
              "  <thead>\n",
              "    <tr style=\"text-align: right;\">\n",
              "      <th></th>\n",
              "      <th>0</th>\n",
              "    </tr>\n",
              "  </thead>\n",
              "  <tbody>\n",
              "    <tr>\n",
              "      <th>0.076073</th>\n",
              "      <td>FLUORUROS_mg/L</td>\n",
              "    </tr>\n",
              "    <tr>\n",
              "      <th>0.072027</th>\n",
              "      <td>CALIDAD_FLUO</td>\n",
              "    </tr>\n",
              "    <tr>\n",
              "      <th>0.068806</th>\n",
              "      <td>CUMPLE_CON_FLUO</td>\n",
              "    </tr>\n",
              "    <tr>\n",
              "      <th>0.053134</th>\n",
              "      <td>AS_TOT_mg/L</td>\n",
              "    </tr>\n",
              "    <tr>\n",
              "      <th>0.052446</th>\n",
              "      <td>DUR_mg/L</td>\n",
              "    </tr>\n",
              "    <tr>\n",
              "      <th>0.048240</th>\n",
              "      <td>CALIDAD_DUR</td>\n",
              "    </tr>\n",
              "    <tr>\n",
              "      <th>0.042684</th>\n",
              "      <td>COLI_FEC_NMP/100_mL</td>\n",
              "    </tr>\n",
              "    <tr>\n",
              "      <th>0.042309</th>\n",
              "      <td>CUMPLE_CON_DUR</td>\n",
              "    </tr>\n",
              "    <tr>\n",
              "      <th>0.041361</th>\n",
              "      <td>N_NO3_mg/L</td>\n",
              "    </tr>\n",
              "    <tr>\n",
              "      <th>0.038749</th>\n",
              "      <td>CUMPLE_CON_AS</td>\n",
              "    </tr>\n",
              "    <tr>\n",
              "      <th>0.038537</th>\n",
              "      <td>CUMPLE_CON_CF</td>\n",
              "    </tr>\n",
              "    <tr>\n",
              "      <th>0.036452</th>\n",
              "      <td>CALIDAD_N_NO3</td>\n",
              "    </tr>\n",
              "    <tr>\n",
              "      <th>0.032054</th>\n",
              "      <td>CUMPLE_CON_NO3</td>\n",
              "    </tr>\n",
              "    <tr>\n",
              "      <th>0.031826</th>\n",
              "      <td>SDT_M_mg/L</td>\n",
              "    </tr>\n",
              "    <tr>\n",
              "      <th>0.030070</th>\n",
              "      <td>FE_TOT_mg/L</td>\n",
              "    </tr>\n",
              "    <tr>\n",
              "      <th>0.029255</th>\n",
              "      <td>MN_TOT_mg/L</td>\n",
              "    </tr>\n",
              "    <tr>\n",
              "      <th>0.027924</th>\n",
              "      <td>CONDUCT_mS/cm</td>\n",
              "    </tr>\n",
              "    <tr>\n",
              "      <th>0.024555</th>\n",
              "      <td>CUMPLE_CON_FE</td>\n",
              "    </tr>\n",
              "    <tr>\n",
              "      <th>0.023520</th>\n",
              "      <td>CALIDAD_FE</td>\n",
              "    </tr>\n",
              "    <tr>\n",
              "      <th>0.020354</th>\n",
              "      <td>CALIDAD_MN</td>\n",
              "    </tr>\n",
              "    <tr>\n",
              "      <th>0.018942</th>\n",
              "      <td>CUMPLE_CON_MN</td>\n",
              "    </tr>\n",
              "    <tr>\n",
              "      <th>0.013758</th>\n",
              "      <td>CALIDAD_AS</td>\n",
              "    </tr>\n",
              "    <tr>\n",
              "      <th>0.013525</th>\n",
              "      <td>ALC_mg/L</td>\n",
              "    </tr>\n",
              "    <tr>\n",
              "      <th>0.009152</th>\n",
              "      <td>LATITUD</td>\n",
              "    </tr>\n",
              "    <tr>\n",
              "      <th>0.008376</th>\n",
              "      <td>LONGITUD</td>\n",
              "    </tr>\n",
              "    <tr>\n",
              "      <th>0.007928</th>\n",
              "      <td>CR_TOT_mg/L</td>\n",
              "    </tr>\n",
              "    <tr>\n",
              "      <th>0.007155</th>\n",
              "      <td>CLAVE</td>\n",
              "    </tr>\n",
              "    <tr>\n",
              "      <th>0.006813</th>\n",
              "      <td>CALIDAD_COLI_FEC</td>\n",
              "    </tr>\n",
              "    <tr>\n",
              "      <th>0.006225</th>\n",
              "      <td>CUMPLE_CON_ALC</td>\n",
              "    </tr>\n",
              "    <tr>\n",
              "      <th>0.006098</th>\n",
              "      <td>CALIDAD_SDT_ra</td>\n",
              "    </tr>\n",
              "    <tr>\n",
              "      <th>0.006070</th>\n",
              "      <td>CUMPLE_CON_COND</td>\n",
              "    </tr>\n",
              "    <tr>\n",
              "      <th>0.005670</th>\n",
              "      <td>MUNICIPIO</td>\n",
              "    </tr>\n",
              "    <tr>\n",
              "      <th>0.005631</th>\n",
              "      <td>CUMPLE_CON_CR</td>\n",
              "    </tr>\n",
              "    <tr>\n",
              "      <th>0.005499</th>\n",
              "      <td>CALIDAD_CR</td>\n",
              "    </tr>\n",
              "    <tr>\n",
              "      <th>0.005242</th>\n",
              "      <td>PB_TOT_mg/L</td>\n",
              "    </tr>\n",
              "    <tr>\n",
              "      <th>0.005228</th>\n",
              "      <td>CALIDAD_SDT_salin</td>\n",
              "    </tr>\n",
              "    <tr>\n",
              "      <th>0.004993</th>\n",
              "      <td>ACUIFERO</td>\n",
              "    </tr>\n",
              "    <tr>\n",
              "      <th>0.004580</th>\n",
              "      <td>SITIO</td>\n",
              "    </tr>\n",
              "    <tr>\n",
              "      <th>0.004344</th>\n",
              "      <td>ESTADO</td>\n",
              "    </tr>\n",
              "    <tr>\n",
              "      <th>0.004335</th>\n",
              "      <td>CALIDAD_PB</td>\n",
              "    </tr>\n",
              "    <tr>\n",
              "      <th>0.003875</th>\n",
              "      <td>CUMPLE_CON_PB</td>\n",
              "    </tr>\n",
              "    <tr>\n",
              "      <th>0.003740</th>\n",
              "      <td>ORGANISMO_DE_CUENCA</td>\n",
              "    </tr>\n",
              "    <tr>\n",
              "      <th>0.003633</th>\n",
              "      <td>CALIDAD_CONDUC</td>\n",
              "    </tr>\n",
              "    <tr>\n",
              "      <th>0.002461</th>\n",
              "      <td>HG_TOT_mg/L</td>\n",
              "    </tr>\n",
              "    <tr>\n",
              "      <th>0.001774</th>\n",
              "      <td>CALIDAD_ALC</td>\n",
              "    </tr>\n",
              "    <tr>\n",
              "      <th>0.001093</th>\n",
              "      <td>CUMPLE_CON_SDT_ra</td>\n",
              "    </tr>\n",
              "    <tr>\n",
              "      <th>0.000755</th>\n",
              "      <td>CUMPLE_CON_SDT_salin</td>\n",
              "    </tr>\n",
              "    <tr>\n",
              "      <th>0.000701</th>\n",
              "      <td>SUBTIPO</td>\n",
              "    </tr>\n",
              "    <tr>\n",
              "      <th>0.000586</th>\n",
              "      <td>CUMPLE_CON_CD</td>\n",
              "    </tr>\n",
              "    <tr>\n",
              "      <th>0.000517</th>\n",
              "      <td>CALIDAD_CD</td>\n",
              "    </tr>\n",
              "    <tr>\n",
              "      <th>0.000489</th>\n",
              "      <td>CD_TOT_mg/L</td>\n",
              "    </tr>\n",
              "    <tr>\n",
              "      <th>0.000232</th>\n",
              "      <td>CUMPLE_CON_HG</td>\n",
              "    </tr>\n",
              "    <tr>\n",
              "      <th>0.000206</th>\n",
              "      <td>CALIDAD_HG</td>\n",
              "    </tr>\n",
              "    <tr>\n",
              "      <th>0.000000</th>\n",
              "      <td>PERIODO</td>\n",
              "    </tr>\n",
              "  </tbody>\n",
              "</table>\n",
              "</div>\n",
              "      <button class=\"colab-df-convert\" onclick=\"convertToInteractive('df-acbf81b8-7f79-4b6f-978c-153e185a8518')\"\n",
              "              title=\"Convert this dataframe to an interactive table.\"\n",
              "              style=\"display:none;\">\n",
              "        \n",
              "  <svg xmlns=\"http://www.w3.org/2000/svg\" height=\"24px\"viewBox=\"0 0 24 24\"\n",
              "       width=\"24px\">\n",
              "    <path d=\"M0 0h24v24H0V0z\" fill=\"none\"/>\n",
              "    <path d=\"M18.56 5.44l.94 2.06.94-2.06 2.06-.94-2.06-.94-.94-2.06-.94 2.06-2.06.94zm-11 1L8.5 8.5l.94-2.06 2.06-.94-2.06-.94L8.5 2.5l-.94 2.06-2.06.94zm10 10l.94 2.06.94-2.06 2.06-.94-2.06-.94-.94-2.06-.94 2.06-2.06.94z\"/><path d=\"M17.41 7.96l-1.37-1.37c-.4-.4-.92-.59-1.43-.59-.52 0-1.04.2-1.43.59L10.3 9.45l-7.72 7.72c-.78.78-.78 2.05 0 2.83L4 21.41c.39.39.9.59 1.41.59.51 0 1.02-.2 1.41-.59l7.78-7.78 2.81-2.81c.8-.78.8-2.07 0-2.86zM5.41 20L4 18.59l7.72-7.72 1.47 1.35L5.41 20z\"/>\n",
              "  </svg>\n",
              "      </button>\n",
              "      \n",
              "  <style>\n",
              "    .colab-df-container {\n",
              "      display:flex;\n",
              "      flex-wrap:wrap;\n",
              "      gap: 12px;\n",
              "    }\n",
              "\n",
              "    .colab-df-convert {\n",
              "      background-color: #E8F0FE;\n",
              "      border: none;\n",
              "      border-radius: 50%;\n",
              "      cursor: pointer;\n",
              "      display: none;\n",
              "      fill: #1967D2;\n",
              "      height: 32px;\n",
              "      padding: 0 0 0 0;\n",
              "      width: 32px;\n",
              "    }\n",
              "\n",
              "    .colab-df-convert:hover {\n",
              "      background-color: #E2EBFA;\n",
              "      box-shadow: 0px 1px 2px rgba(60, 64, 67, 0.3), 0px 1px 3px 1px rgba(60, 64, 67, 0.15);\n",
              "      fill: #174EA6;\n",
              "    }\n",
              "\n",
              "    [theme=dark] .colab-df-convert {\n",
              "      background-color: #3B4455;\n",
              "      fill: #D2E3FC;\n",
              "    }\n",
              "\n",
              "    [theme=dark] .colab-df-convert:hover {\n",
              "      background-color: #434B5C;\n",
              "      box-shadow: 0px 1px 3px 1px rgba(0, 0, 0, 0.15);\n",
              "      filter: drop-shadow(0px 1px 2px rgba(0, 0, 0, 0.3));\n",
              "      fill: #FFFFFF;\n",
              "    }\n",
              "  </style>\n",
              "\n",
              "      <script>\n",
              "        const buttonEl =\n",
              "          document.querySelector('#df-acbf81b8-7f79-4b6f-978c-153e185a8518 button.colab-df-convert');\n",
              "        buttonEl.style.display =\n",
              "          google.colab.kernel.accessAllowed ? 'block' : 'none';\n",
              "\n",
              "        async function convertToInteractive(key) {\n",
              "          const element = document.querySelector('#df-acbf81b8-7f79-4b6f-978c-153e185a8518');\n",
              "          const dataTable =\n",
              "            await google.colab.kernel.invokeFunction('convertToInteractive',\n",
              "                                                     [key], {});\n",
              "          if (!dataTable) return;\n",
              "\n",
              "          const docLinkHtml = 'Like what you see? Visit the ' +\n",
              "            '<a target=\"_blank\" href=https://colab.research.google.com/notebooks/data_table.ipynb>data table notebook</a>'\n",
              "            + ' to learn more about interactive tables.';\n",
              "          element.innerHTML = '';\n",
              "          dataTable['output_type'] = 'display_data';\n",
              "          await google.colab.output.renderOutput(dataTable, element);\n",
              "          const docLink = document.createElement('div');\n",
              "          docLink.innerHTML = docLinkHtml;\n",
              "          element.appendChild(docLink);\n",
              "        }\n",
              "      </script>\n",
              "    </div>\n",
              "  </div>\n",
              "  "
            ]
          },
          "metadata": {},
          "execution_count": 15
        }
      ]
    },
    {
      "cell_type": "code",
      "source": [
        "#Graficamos las variables independientes de mayor relevancia.\n",
        "fig, ax = plt.subplots(figsize =(6, 12))\n",
        " \n",
        "# Horizontal Bar Plot\n",
        "name = n\n",
        "cant = s\n",
        "ax.barh(name, cant)\n",
        " \n",
        "# Remove axes splines\n",
        "for p in ['top', 'bottom', 'left', 'right']:\n",
        "    ax.spines[p].set_visible(False)\n",
        " \n",
        "# Remove x, y Ticks\n",
        "ax.xaxis.set_ticks_position('none')\n",
        "ax.yaxis.set_ticks_position('none')\n",
        " \n",
        "# Add padding between axes and labels\n",
        "ax.xaxis.set_tick_params(pad = 5)\n",
        "ax.yaxis.set_tick_params(pad = 5)\n",
        " \n",
        "# Add x, y gridlines\n",
        "ax.grid(b = True, color ='grey',\n",
        "        linestyle ='-.', linewidth = 0.5,\n",
        "        alpha = 0.2)\n",
        " \n",
        "# Show top values\n",
        "ax.invert_yaxis()\n",
        " \n",
        "# Add annotation to bars\n",
        "for i in ax.patches:\n",
        "    plt.text(i.get_width()+0.001, i.get_y()+0.5,\n",
        "             str(round((i.get_width()), 2)),\n",
        "             fontsize = 10, fontweight ='bold',\n",
        "             color ='grey')\n",
        " \n",
        "# Add Plot Title\n",
        "ax.set_title('Importancia de variables',\n",
        "             loc ='left', )\n",
        " \n",
        "# Add Text watermark\n",
        "fig.text(0.9, 0.15, \"Features\",fontsize = 12,\n",
        "         color ='grey', ha ='right', va ='bottom',\n",
        "         alpha = 0.7)\n",
        " \n",
        "# Show Plot\n",
        "plt.show()"
      ],
      "metadata": {
        "colab": {
          "base_uri": "https://localhost:8080/",
          "height": 718
        },
        "id": "8bSwxKp_3VVg",
        "outputId": "1cde6339-62bd-4f9a-86ba-dfdfcc20f45b"
      },
      "execution_count": 16,
      "outputs": [
        {
          "output_type": "display_data",
          "data": {
            "text/plain": [
              "<Figure size 432x864 with 1 Axes>"
            ],
            "image/png": "[encoded data removed]"
          },
          "metadata": {
            "needs_background": "light"
          }
        }
      ]
    },
    {
      "cell_type": "markdown",
      "source": [
        "##Selecciona las variables de mayor importancia."
      ],
      "metadata": {
        "id": "PSI3SLk6zxQI"
      }
    },
    {
      "cell_type": "code",
      "source": [
        "#0.01 CLAVE\n",
        "#0.01 MUNICIPIO\n",
        "#0.01 LONGITUD\n",
        "#0.01 LATITUD\n",
        "#0.01 ALC_mg/L\n",
        "#0.01 CALIDAD_SDT_ra\n",
        "#0.01 CALIDAD_SDT_salin\n",
        "#0.01 CALIDAD_COLI_FEC\n",
        "#0.01 CALIDAD_AS\n",
        "#0.01 CR_TOT_mg/L\n",
        "#0.01 CALIDAD_CR\n",
        "#0.01 PB_TOT_mg/L\n",
        "#0.01 CUMPLE_CON_ALC\n",
        "#0.01 CUMPLE_CON_COND\n",
        "#0.01 CUMPLE_CON_CR\n",
        "\n",
        "#0.03 CONDUCT_mS/cm\n",
        "#0.03 SDT_M_mg/L\n",
        "#0.08 FLUORUROS_mg/L\n",
        "#0.07 CALIDAD_FLUO\n",
        "#0.05 DUR_mg/L\n",
        "#0.05 CALIDAD_DUR\n",
        "#0.04 COLI_FEC_NMP/100_mL\n",
        "#0.04 N_NO3_mg/L\n",
        "#0.04 CALIDAD_N_NO3\n",
        "#0.05 AS_TOT_mg/L\n",
        "#0.03 MN_TOT_mg/L\n",
        "#0.02 CALIDAD_MN\n",
        "#0.03 FE_TOT_mg/L\n",
        "#0.02 CALIDAD_FE\n",
        "#0.07 CUMPLE_CON_FLUO\n",
        "#0.04 CUMPLE_CON_DUR\n",
        "#0.04 CUMPLE_CON_CF\n",
        "#0.03 CUMPLE_CON_NO3\n",
        "#0.04 CUMPLE_CON_AS\n",
        "#0.02 CUMPLE_CON_MN\n",
        "#0.02 CUMPLE_CON_FE\n"
      ],
      "metadata": {
        "id": "4AtD8G6glXX8"
      },
      "execution_count": 17,
      "outputs": []
    },
    {
      "cell_type": "code",
      "source": [
        "#Seleccionamos las variables de mayor importancia\n",
        "X = ndf[['CONDUCT_mS/cm','SDT_M_mg/L','FLUORUROS_mg/L','CALIDAD_FLUO','DUR_mg/L',\n",
        "        'CALIDAD_DUR','COLI_FEC_NMP/100_mL','N_NO3_mg/L','CALIDAD_N_NO3','AS_TOT_mg/L',\n",
        "        'MN_TOT_mg/L','CALIDAD_MN','FE_TOT_mg/L','CALIDAD_FE','CUMPLE_CON_FLUO',\n",
        "        'CUMPLE_CON_DUR','CUMPLE_CON_CF','CUMPLE_CON_NO3','CUMPLE_CON_AS','CUMPLE_CON_MN',\n",
        "        'CUMPLE_CON_FE']]"
      ],
      "metadata": {
        "id": "oB2LJJNPpY5R"
      },
      "execution_count": 18,
      "outputs": []
    },
    {
      "cell_type": "code",
      "source": [
        "#Convertimos las variables categóricas a numéricas\n",
        "for c in X.columns:\n",
        "  X[c]=le.fit_transform(X[c])"
      ],
      "metadata": {
        "colab": {
          "base_uri": "https://localhost:8080/"
        },
        "id": "45OhxFUJsjPR",
        "outputId": "ce804eaf-01d7-45c3-f632-b3e0f2f17c62"
      },
      "execution_count": 19,
      "outputs": [
        {
          "output_type": "stream",
          "name": "stderr",
          "text": [
            "/usr/local/lib/python3.7/dist-packages/ipykernel_launcher.py:3: SettingWithCopyWarning: \n",
            "A value is trying to be set on a copy of a slice from a DataFrame.\n",
            "Try using .loc[row_indexer,col_indexer] = value instead\n",
            "\n",
            "See the caveats in the documentation: https://pandas.pydata.org/pandas-docs/stable/user_guide/indexing.html#returning-a-view-versus-a-copy\n",
            "  This is separate from the ipykernel package so we can avoid doing imports until\n"
          ]
        }
      ]
    },
    {
      "cell_type": "markdown",
      "source": [
        "##Realiza tu clasificador, recuerda dividir los datos de manera balanceada (auxiliate de train test split)"
      ],
      "metadata": {
        "id": "GAP1aI-Hq6tw"
      }
    },
    {
      "cell_type": "code",
      "source": [
        "#Dividimos los datos entre entrenamiento y prueba.\n",
        "#Generamos tres modelos (bosque aleatorio, máquina de vectores de soporte y árboles de decisión)\n",
        "from sklearn.tree import DecisionTreeClassifier\n",
        "\n",
        "X_train, X_test, y_train, y_test = train_test_split(X, y, test_size=.2, stratify=y, random_state=42)\n",
        "\n",
        "voting_clf = VotingClassifier(\n",
        "    estimators=[\n",
        "        ('rf', RandomForestClassifier(random_state=42)),\n",
        "        ('dt', DecisionTreeClassifier(random_state=42)),\n",
        "        ('svc', SVC(random_state=42))\n",
        "    ]\n",
        ")\n",
        "voting_clf.fit(X_train, y_train)"
      ],
      "metadata": {
        "id": "dcwo0lXfzc2B",
        "colab": {
          "base_uri": "https://localhost:8080/"
        },
        "outputId": "2bb9167d-f9d2-466a-f700-d4e3a963c753"
      },
      "execution_count": 20,
      "outputs": [
        {
          "output_type": "stream",
          "name": "stderr",
          "text": [
            "/usr/local/lib/python3.7/dist-packages/sklearn/preprocessing/_label.py:98: DataConversionWarning: A column-vector y was passed when a 1d array was expected. Please change the shape of y to (n_samples, ), for example using ravel().\n",
            "  y = column_or_1d(y, warn=True)\n",
            "/usr/local/lib/python3.7/dist-packages/sklearn/preprocessing/_label.py:133: DataConversionWarning: A column-vector y was passed when a 1d array was expected. Please change the shape of y to (n_samples, ), for example using ravel().\n",
            "  y = column_or_1d(y, warn=True)\n"
          ]
        },
        {
          "output_type": "execute_result",
          "data": {
            "text/plain": [
              "VotingClassifier(estimators=[('rf', RandomForestClassifier(random_state=42)),\n",
              "                             ('dt', DecisionTreeClassifier(random_state=42)),\n",
              "                             ('svc', SVC(random_state=42))])"
            ]
          },
          "metadata": {},
          "execution_count": 20
        }
      ]
    },
    {
      "cell_type": "markdown",
      "source": [
        "##Explora que clasificador es el más optimo, ejemplo: Decision trees, Random Forest."
      ],
      "metadata": {
        "id": "UvreCD97tphA"
      }
    },
    {
      "cell_type": "code",
      "source": [
        "#Obtenemos accuracy e identificamos cuál es el clasificador más óptimo.\n",
        "for name, clf in voting_clf.named_estimators_.items():\n",
        "    print(name, \"=\", clf.score(X_test, y_test).round(2))"
      ],
      "metadata": {
        "colab": {
          "base_uri": "https://localhost:8080/"
        },
        "id": "dfv1BRrCdFJW",
        "outputId": "b64ef2e5-a645-402a-a4ba-79932fd37b7b"
      },
      "execution_count": 21,
      "outputs": [
        {
          "output_type": "stream",
          "name": "stdout",
          "text": [
            "rf = 0.96\n",
            "dt = 0.91\n",
            "svc = 0.8\n"
          ]
        }
      ]
    },
    {
      "cell_type": "markdown",
      "source": [
        "Determina el grado de exactitud a través del reporte de clasificación y análisis de la gráfica de Precision Recall."
      ],
      "metadata": {
        "id": "Kbz8WBecuCTk"
      }
    },
    {
      "cell_type": "code",
      "source": [
        "#Determinamos el grado de exactitud\n",
        "rf= RandomForestClassifier()\n",
        "rf.fit(X_train, y_train)\n",
        "rf.score(X_test, y_test)"
      ],
      "metadata": {
        "colab": {
          "base_uri": "https://localhost:8080/"
        },
        "id": "_ZJzVw0-te62",
        "outputId": "102e05fc-66a2-45ba-a82b-4924fd8894ad"
      },
      "execution_count": 22,
      "outputs": [
        {
          "output_type": "stream",
          "name": "stderr",
          "text": [
            "/usr/local/lib/python3.7/dist-packages/ipykernel_launcher.py:3: DataConversionWarning: A column-vector y was passed when a 1d array was expected. Please change the shape of y to (n_samples,), for example using ravel().\n",
            "  This is separate from the ipykernel package so we can avoid doing imports until\n"
          ]
        },
        {
          "output_type": "execute_result",
          "data": {
            "text/plain": [
              "0.9532710280373832"
            ]
          },
          "metadata": {},
          "execution_count": 22
        }
      ]
    },
    {
      "cell_type": "code",
      "source": [
        "y_pred=rf.predict(X_test)"
      ],
      "metadata": {
        "id": "SIe0MkmQtsfJ"
      },
      "execution_count": 23,
      "outputs": []
    },
    {
      "cell_type": "code",
      "source": [
        "#Generamos el reporte de clasificación\n",
        "from sklearn.metrics import classification_report\n",
        "print(classification_report(y_test, y_pred, labels=[0, 1, 2]))"
      ],
      "metadata": {
        "id": "8B2CPNwKdHcC",
        "colab": {
          "base_uri": "https://localhost:8080/"
        },
        "outputId": "5fbe181b-dec4-4fbc-afab-8073c207109c"
      },
      "execution_count": 24,
      "outputs": [
        {
          "output_type": "stream",
          "name": "stdout",
          "text": [
            "              precision    recall  f1-score   support\n",
            "\n",
            "           0       0.90      0.92      0.91        49\n",
            "           1       0.99      0.94      0.96        78\n",
            "           2       0.96      0.99      0.97        87\n",
            "\n",
            "    accuracy                           0.95       214\n",
            "   macro avg       0.95      0.95      0.95       214\n",
            "weighted avg       0.95      0.95      0.95       214\n",
            "\n"
          ]
        }
      ]
    },
    {
      "cell_type": "code",
      "source": [
        "from sklearn.multiclass import OneVsRestClassifier\n",
        "from sklearn.metrics import precision_recall_curve, roc_curve\n",
        "from sklearn.preprocessing import label_binarize"
      ],
      "metadata": {
        "id": "yN1rzd8wz7SD"
      },
      "execution_count": 25,
      "outputs": []
    },
    {
      "cell_type": "code",
      "source": [
        "#Se binarizan las variables de salida.\n",
        "#Es como si ahora Y quedara en tres columnas.\n",
        "#La primera columna para la clase 0, la segunda, para la clase 1, y la tercera para la clase 2.\n",
        "n_classes = len(set(y[\"SEMAFORO\"]))\n",
        "\n",
        "Y = label_binarize(y[\"SEMAFORO\"], classes=list(y[\"SEMAFORO\"].unique()))\n",
        "\n",
        "X_train, X_test, y_train, y_test = train_test_split(X,\n",
        "                                                    Y,\n",
        "                                                    random_state = 42)\n",
        "\n",
        "clf = OneVsRestClassifier(RandomForestClassifier())\n",
        "clf.fit(X_train, y_train)\n",
        "\n",
        "y_score = clf.predict_proba(X_test)"
      ],
      "metadata": {
        "id": "jsYSve3Oz8BB"
      },
      "execution_count": 26,
      "outputs": []
    },
    {
      "cell_type": "code",
      "source": [
        "#Hacemos la Curva de Precision Recall\n",
        "#Para la clase 0, parece que la clasifica muy bien.\n",
        "#Para la clase 1, parece que la clasifica muy bien precision hasta tener alrededor de .95 de recall, ya que pasando ese valor desciende el recall.\n",
        "#Para la clase 2 se tiene un comportamiento con mayor variabilidad entre precision y recall. A partir de .85 de recall desciende la precision.\n",
        "precision = dict()\n",
        "recall = dict()\n",
        "for i in range(n_classes):\n",
        "    precision[i], recall[i], _ = precision_recall_curve(y_test[:, i],\n",
        "                                                        y_score[:, i])\n",
        "    plt.plot(recall[i], precision[i], lw=2, label='class {}'.format(i))\n",
        "    \n",
        "plt.xlabel(\"recall\")\n",
        "plt.ylabel(\"precision\")\n",
        "plt.legend(loc=\"best\")\n",
        "plt.title(\"Curva precision vs recall\")\n",
        "plt.show()"
      ],
      "metadata": {
        "colab": {
          "base_uri": "https://localhost:8080/",
          "height": 295
        },
        "id": "R0hgvuig0Apo",
        "outputId": "539f231e-d210-49f5-84af-bcc9b9ac8936"
      },
      "execution_count": 27,
      "outputs": [
        {
          "output_type": "display_data",
          "data": {
            "text/plain": [
              "<Figure size 432x288 with 1 Axes>"
            ],
            "image/png": "[encoded data removed]"
          },
          "metadata": {
            "needs_background": "light"
          }
        }
      ]
    },
    {
      "cell_type": "markdown",
      "source": [
        "Visualiza los resultados del modelo o las predicciones a través de una matriz de confusión."
      ],
      "metadata": {
        "id": "gAmo7JZ8rBtB"
      }
    },
    {
      "cell_type": "code",
      "source": [
        "#Generamos la matriz de confusión\n",
        "from sklearn.metrics import confusion_matrix\n",
        "import seaborn as sns\n",
        "\n",
        "def mi_cm(yreal, ypred):\n",
        "\n",
        "  cm = confusion_matrix(yreal, ypred)\n",
        "\n",
        "  txt = ['Verdaderos Positivo','Falsos', 'Falsos',\n",
        "         'Falsos','Verdaderos Positivos', 'Falsos',\n",
        "         'Falsos','Falsos', 'Verdadero Positivo']\n",
        "  vf = [ '( VN )', '( F )','( F )', \n",
        "        '( F )', '( VP )','( F )',\n",
        "        '( F )', '( F )','( VP )'\n",
        "        ]\n",
        "  frecuencia = [\"{0:0.0f}\".format(value) for value in cm.flatten()]\n",
        "  porcentaje = [\"{0:.1%}\".format(value) for value in cm.flatten()/np.sum(cm)]\n",
        "\n",
        "  labels = [f\"{v1}\\n{v2}\\n{v3}\\n{v4}\" for v1, v2, v3, v4 in zip(txt,vf, frecuencia,porcentaje)]\n",
        "  labels = np.asarray(labels).reshape(3,3)\n",
        "\n",
        "  plt.figure(figsize=(6,4))\n",
        "  ax = sns.heatmap(cm, annot=labels, fmt='', cmap='Spectral', cbar=False)\n",
        "  ax.set(ylabel=\"Etiquetas Reales\", xlabel=\"Etiquetas de Predicción\")\n",
        "  plt.show()\n"
      ],
      "metadata": {
        "id": "DLk8ttxqvzY5"
      },
      "execution_count": 33,
      "outputs": []
    },
    {
      "cell_type": "code",
      "source": [
        "mi_cm(y_test, y_pred)"
      ],
      "metadata": {
        "colab": {
          "base_uri": "https://localhost:8080/",
          "height": 311
        },
        "id": "36YmNv-5wV5R",
        "outputId": "1872588d-6fe0-4598-ddaa-19bb2625177a"
      },
      "execution_count": 34,
      "outputs": [
        {
          "output_type": "error",
          "ename": "ValueError",
          "evalue": "ignored",
          "traceback": [
            "\u001b[0;31m---------------------------------------------------------------------------\u001b[0m",
            "\u001b[0;31mValueError\u001b[0m                                Traceback (most recent call last)",
            "\u001b[0;32m<ipython-input-34-fa40aeb95763>\u001b[0m in \u001b[0;36m<module>\u001b[0;34m\u001b[0m\n\u001b[0;32m----> 1\u001b[0;31m \u001b[0mmi_cm\u001b[0m\u001b[0;34m(\u001b[0m\u001b[0my_test\u001b[0m\u001b[0;34m,\u001b[0m \u001b[0my_pred\u001b[0m\u001b[0;34m)\u001b[0m\u001b[0;34m\u001b[0m\u001b[0;34m\u001b[0m\u001b[0m\n\u001b[0m",
            "\u001b[0;32m<ipython-input-33-7867fae49136>\u001b[0m in \u001b[0;36mmi_cm\u001b[0;34m(yreal, ypred)\u001b[0m\n\u001b[1;32m      5\u001b[0m \u001b[0;32mdef\u001b[0m \u001b[0mmi_cm\u001b[0m\u001b[0;34m(\u001b[0m\u001b[0myreal\u001b[0m\u001b[0;34m,\u001b[0m \u001b[0mypred\u001b[0m\u001b[0;34m)\u001b[0m\u001b[0;34m:\u001b[0m\u001b[0;34m\u001b[0m\u001b[0;34m\u001b[0m\u001b[0m\n\u001b[1;32m      6\u001b[0m \u001b[0;34m\u001b[0m\u001b[0m\n\u001b[0;32m----> 7\u001b[0;31m   \u001b[0mcm\u001b[0m \u001b[0;34m=\u001b[0m \u001b[0mconfusion_matrix\u001b[0m\u001b[0;34m(\u001b[0m\u001b[0myreal\u001b[0m\u001b[0;34m,\u001b[0m \u001b[0mypred\u001b[0m\u001b[0;34m)\u001b[0m\u001b[0;34m\u001b[0m\u001b[0;34m\u001b[0m\u001b[0m\n\u001b[0m\u001b[1;32m      8\u001b[0m \u001b[0;34m\u001b[0m\u001b[0m\n\u001b[1;32m      9\u001b[0m   txt = ['Verdaderos Positivo','Falsos', 'Falsos',\n",
            "\u001b[0;32m/usr/local/lib/python3.7/dist-packages/sklearn/metrics/_classification.py\u001b[0m in \u001b[0;36mconfusion_matrix\u001b[0;34m(y_true, y_pred, labels, sample_weight, normalize)\u001b[0m\n\u001b[1;32m    305\u001b[0m     \u001b[0;34m(\u001b[0m\u001b[0;36m0\u001b[0m\u001b[0;34m,\u001b[0m \u001b[0;36m2\u001b[0m\u001b[0;34m,\u001b[0m \u001b[0;36m1\u001b[0m\u001b[0;34m,\u001b[0m \u001b[0;36m1\u001b[0m\u001b[0;34m)\u001b[0m\u001b[0;34m\u001b[0m\u001b[0;34m\u001b[0m\u001b[0m\n\u001b[1;32m    306\u001b[0m     \"\"\"\n\u001b[0;32m--> 307\u001b[0;31m     \u001b[0my_type\u001b[0m\u001b[0;34m,\u001b[0m \u001b[0my_true\u001b[0m\u001b[0;34m,\u001b[0m \u001b[0my_pred\u001b[0m \u001b[0;34m=\u001b[0m \u001b[0m_check_targets\u001b[0m\u001b[0;34m(\u001b[0m\u001b[0my_true\u001b[0m\u001b[0;34m,\u001b[0m \u001b[0my_pred\u001b[0m\u001b[0;34m)\u001b[0m\u001b[0;34m\u001b[0m\u001b[0;34m\u001b[0m\u001b[0m\n\u001b[0m\u001b[1;32m    308\u001b[0m     \u001b[0;32mif\u001b[0m \u001b[0my_type\u001b[0m \u001b[0;32mnot\u001b[0m \u001b[0;32min\u001b[0m \u001b[0;34m(\u001b[0m\u001b[0;34m\"binary\"\u001b[0m\u001b[0;34m,\u001b[0m \u001b[0;34m\"multiclass\"\u001b[0m\u001b[0;34m)\u001b[0m\u001b[0;34m:\u001b[0m\u001b[0;34m\u001b[0m\u001b[0;34m\u001b[0m\u001b[0m\n\u001b[1;32m    309\u001b[0m         \u001b[0;32mraise\u001b[0m \u001b[0mValueError\u001b[0m\u001b[0;34m(\u001b[0m\u001b[0;34m\"%s is not supported\"\u001b[0m \u001b[0;34m%\u001b[0m \u001b[0my_type\u001b[0m\u001b[0;34m)\u001b[0m\u001b[0;34m\u001b[0m\u001b[0;34m\u001b[0m\u001b[0m\n",
            "\u001b[0;32m/usr/local/lib/python3.7/dist-packages/sklearn/metrics/_classification.py\u001b[0m in \u001b[0;36m_check_targets\u001b[0;34m(y_true, y_pred)\u001b[0m\n\u001b[1;32m     82\u001b[0m     \u001b[0my_pred\u001b[0m \u001b[0;34m:\u001b[0m \u001b[0marray\u001b[0m \u001b[0;32mor\u001b[0m \u001b[0mindicator\u001b[0m \u001b[0mmatrix\u001b[0m\u001b[0;34m\u001b[0m\u001b[0;34m\u001b[0m\u001b[0m\n\u001b[1;32m     83\u001b[0m     \"\"\"\n\u001b[0;32m---> 84\u001b[0;31m     \u001b[0mcheck_consistent_length\u001b[0m\u001b[0;34m(\u001b[0m\u001b[0my_true\u001b[0m\u001b[0;34m,\u001b[0m \u001b[0my_pred\u001b[0m\u001b[0;34m)\u001b[0m\u001b[0;34m\u001b[0m\u001b[0;34m\u001b[0m\u001b[0m\n\u001b[0m\u001b[1;32m     85\u001b[0m     \u001b[0mtype_true\u001b[0m \u001b[0;34m=\u001b[0m \u001b[0mtype_of_target\u001b[0m\u001b[0;34m(\u001b[0m\u001b[0my_true\u001b[0m\u001b[0;34m)\u001b[0m\u001b[0;34m\u001b[0m\u001b[0;34m\u001b[0m\u001b[0m\n\u001b[1;32m     86\u001b[0m     \u001b[0mtype_pred\u001b[0m \u001b[0;34m=\u001b[0m \u001b[0mtype_of_target\u001b[0m\u001b[0;34m(\u001b[0m\u001b[0my_pred\u001b[0m\u001b[0;34m)\u001b[0m\u001b[0;34m\u001b[0m\u001b[0;34m\u001b[0m\u001b[0m\n",
            "\u001b[0;32m/usr/local/lib/python3.7/dist-packages/sklearn/utils/validation.py\u001b[0m in \u001b[0;36mcheck_consistent_length\u001b[0;34m(*arrays)\u001b[0m\n\u001b[1;32m    332\u001b[0m         raise ValueError(\n\u001b[1;32m    333\u001b[0m             \u001b[0;34m\"Found input variables with inconsistent numbers of samples: %r\"\u001b[0m\u001b[0;34m\u001b[0m\u001b[0;34m\u001b[0m\u001b[0m\n\u001b[0;32m--> 334\u001b[0;31m             \u001b[0;34m%\u001b[0m \u001b[0;34m[\u001b[0m\u001b[0mint\u001b[0m\u001b[0;34m(\u001b[0m\u001b[0ml\u001b[0m\u001b[0;34m)\u001b[0m \u001b[0;32mfor\u001b[0m \u001b[0ml\u001b[0m \u001b[0;32min\u001b[0m \u001b[0mlengths\u001b[0m\u001b[0;34m]\u001b[0m\u001b[0;34m\u001b[0m\u001b[0;34m\u001b[0m\u001b[0m\n\u001b[0m\u001b[1;32m    335\u001b[0m         )\n\u001b[1;32m    336\u001b[0m \u001b[0;34m\u001b[0m\u001b[0m\n",
            "\u001b[0;31mValueError\u001b[0m: Found input variables with inconsistent numbers of samples: [267, 214]"
          ]
        }
      ]
    },
    {
      "cell_type": "markdown",
      "source": [
        "Realiza un reporte de los principales hallazgos y conclusiones del experimento e incluyelos en una presentación ejecutiva de 10 diapositivas. La presentación deberá incluir todos los pasos del pipeline seguidos, limpieza, análisis, kmeans, clasificación, resultados y conclusiones."
      ],
      "metadata": {
        "id": "-I1yvmaWuJBR"
      }
    },
    {
      "cell_type": "markdown",
      "source": [
        "\n",
        "Con relación al Reporte de Clasificación, tenemos lo siguiente:\n",
        "- La exactitud alcanzó 0.96, lo cual se considera un buen desempeño. Es decir, cuántos predijo bien del total.\n",
        "- La clase 2 es la que clasifica mejor, conforme a las métricas obtenidas.\n",
        "- Con relación a la métrica precision, la clase que mejor predijo el modelo es la 1.\n",
        "- Con relación a la métrica recall, la clase que mejor predijo el modelo es la 2.\n",
        "- Con relación a la métrica f1-score, la clase que mejor predijo el modelo es la 2.\n",
        "\n",
        "Con relación a la Curva de Precision Recall, se tiene lo siguiente:\n",
        "Para la clase 0, parece que la clasifica muy bien.\n",
        "Para la clase 1, parece que la clasifica muy bien precision hasta tener alrededor de .95 de recall, ya que pasando ese valor desciende el recall.\n",
        "Para la clase 2 se tiene un comportamiento con mayor variabilidad entre precision y recall. A partir de .85 de recall desciende la precision.\n",
        "\n",
        "Con relación a la matriz de confusión, tenemos lo siguiente:\n",
        "Hubo cinco que etiquetó con etiqueta cero, pero que realmente eran etiqueta 1 (2.3%).\n",
        "Hubo cuatro que etiquetó como etiqueta 2, pero realmente eran etiqueta cero (1.9%).\n",
        "Por lo anterior, se considera que el algoritmo si es bueno para predecir la calidad del agua.\n",
        "De la clase 0, tenemos 45 de 49 datos que predijo bien para la clase cero, y que representan el 21% del total de datos.\n",
        "De la clase 1, tenemos 73 de 78 datos que predijo bien para la clase 1, y que representan el 34.1% del total de datos.\n",
        "De la clase 2, tenemos 87 de 87 datos que predijo bien para la clase 2, y que representan el 40.7% del total de datos.\n",
        "\n"
      ],
      "metadata": {
        "id": "I5kpagum0-hw"
      }
    },
    {
      "cell_type": "code",
      "source": [
        "Dear participates, thank you for attending this course, we would like to invite you take a short interview after this lecture. If you would like to take this interview, please feel free to stay for a short time after Q&A with Professor, this is a good chance for showcasing yourself. Looking forward to meeting you face to face online. (This interview may need in Tsinghua news)\n",
        "We will ask following questions: \n",
        "Please introduce yourself, your name, where are you from, where are you studying or working, which major, etc.\n",
        "1.Why did you choose this course? \n",
        "2.How did you feel about this course? How is it different from other courses you have attended before?\n",
        "3. What have you gained from this course？\n",
        "4. How much of your learning is now done online?\n",
        "5.How do you think digital technologies will reshape the future of higher education?\n",
        "Your participation and answers will be very meaningful for knowledge sharing. \n",
        "\n",
        "\n",
        "Jobish\n",
        "Thanks professor. \n",
        "王运涛\n",
        "Yuntao Wang, yuntaowang@tsinghua.edu.cn, https://pi.cs.tsinghua.edu.cn/lab/people/YuntaoWang/ "
      ],
      "metadata": {
        "id": "yzUD95Etk7Gl"
      },
      "execution_count": null,
      "outputs": []
    }
  ]
}