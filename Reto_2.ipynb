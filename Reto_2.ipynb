{
  "nbformat": 4,
  "nbformat_minor": 0,
  "metadata": {
    "colab": {
      "provenance": [],
      "include_colab_link": true
    },
    "kernelspec": {
      "name": "python3",
      "display_name": "Python 3"
    },
    "language_info": {
      "name": "python"
    }
  },
  "cells": [
    {
      "cell_type": "markdown",
      "metadata": {
        "id": "view-in-github",
        "colab_type": "text"
      },
      "source": [
        "<a href=\"https://colab.research.google.com/github/PosgradoMNA/actividades-del-projecto-equipo-125/blob/main/Reto_2.ipynb\" target=\"_parent\"><img src=\"https://colab.research.google.com/assets/colab-badge.svg\" alt=\"Open In Colab\"/></a>"
      ]
    },
    {
      "cell_type": "markdown",
      "source": [
        "#Reto, 2da entrega\n",
        "Estefania Abigail Castro Belmont A01332636\n",
        "\n",
        "Vladimir Salazar Altamirano A01793118\n",
        "\n",
        "Materia: Ciencia y analítica de datos\n",
        "\n",
        "Profesor: Maria de la Paz Rico\n",
        "\n",
        "Tutor: Julio César Galindo López\n",
        "\n",
        "18/11/2022"
      ],
      "metadata": {
        "id": "hnl0U96TvdxN"
      }
    },
    {
      "cell_type": "markdown",
      "source": [
        "Clasificación\n",
        "En esta base de datos encontraras:\n",
        "\n",
        "**Aguas subterráneas**\n",
        "\n",
        "Utilizando la base de datos que hayas elegido y hayas realizado su limpieza en la anterior entrega del reto, realiza lo siguiente:\n",
        "\n",
        "Selecciona tus variables independientes X y dependiente Y (semáforo)\n",
        "\n",
        "Cambia a label encoding el semáforo, ej, de [\"clase 1\", \"clase 2\", \"clase 3\"] a [ 1,2,3]\n",
        "\n",
        "Realiza un análisis general de las features importances a traves de decision trees o random forest.\n",
        "\n",
        "Selecciona las variables de mayor importancia.\n",
        "\n",
        "Realiza tu clasificador, recuerda dividir los datos de manera balanceada (auxiliate de train test split)\n",
        "\n",
        "Explora que clasificador es el más optimo, ejemplo:\n",
        "Decision trees\n",
        "\n",
        "Random Forest.\n",
        "\n",
        "Determina el grado de exactitud a través del reporte de clasificación y análisis de la gráfica de Precision Recall.\n",
        "\n",
        "Visualiza los resultados del modelo o las predicciones a través de una matriz de confusión.\n",
        "\n",
        "Realiza un reporte de los principales hallazgos y conclusiones del experimento e incluyelos en una presentación ejecutiva de 10 diapositivas. La presentación deberá incluir todos los pasos del pipeline seguidos, limpieza, análisis, kmeans, clasificación, resultados y conclusiones."
      ],
      "metadata": {
        "id": "ny8VwwhjrZl-"
      }
    },
    {
      "cell_type": "markdown",
      "source": [
        "##Base de datos de aguas subterraneas"
      ],
      "metadata": {
        "id": "7GV0yLz8zmfk"
      }
    },
    {
      "cell_type": "code",
      "source": [
        "import pandas as pd\n",
        "import numpy as np\n",
        "from sklearn.ensemble import RandomForestClassifier, VotingClassifier\n",
        "from sklearn.linear_model import LogisticRegression\n",
        "from sklearn.model_selection import train_test_split\n",
        "from sklearn.svm import SVC\n",
        "import matplotlib.pyplot as plt"
      ],
      "metadata": {
        "id": "JBFTwFGcwKy9"
      },
      "execution_count": null,
      "outputs": []
    },
    {
      "cell_type": "code",
      "source": [
        "df = pd.read_csv('https://raw.githubusercontent.com/PosgradoMNA/actividades-del-projecto-equipo-125/main/Datos_de_calidad_del_agua_de_sitios_de_monitoreo_de_aguas_subterraneas_2020.csv',\n",
        "                 sep=',',\n",
        "                 encoding='cp1252')\n",
        "                 \n",
        "df.head()"
      ],
      "metadata": {
        "colab": {
          "base_uri": "https://localhost:8080/",
          "height": 421
        },
        "id": "_QfzcKoLwLAk",
        "outputId": "25a46df9-c747-4ec7-923d-d6cbdd62d546"
      },
      "execution_count": null,
      "outputs": [
        {
          "output_type": "execute_result",
          "data": {
            "text/plain": [
              "       CLAVE                   SITIO           ORGANISMO_DE_CUENCA  \\\n",
              "0     DLAGU6            POZO SAN GIL       LERMA SANTIAGO PACIFICO   \n",
              "1  DLAGU6516  POZO R013 CAÑADA HONDA       LERMA SANTIAGO PACIFICO   \n",
              "2     DLAGU7              POZO COSIO       LERMA SANTIAGO PACIFICO   \n",
              "3     DLAGU9      POZO EL SALITRILLO       LERMA SANTIAGO PACIFICO   \n",
              "4   DLBAJ107      RANCHO EL TECOLOTE  PENINSULA DE BAJA CALIFORNIA   \n",
              "\n",
              "                ESTADO        MUNICIPIO                 ACUIFERO SUBTIPO  \\\n",
              "0       AGUASCALIENTES         ASIENTOS       VALLE DE CHICALOTE    POZO   \n",
              "1       AGUASCALIENTES   AGUASCALIENTES       VALLE DE CHICALOTE    POZO   \n",
              "2       AGUASCALIENTES            COSIO  VALLE DE AGUASCALIENTES    POZO   \n",
              "3       AGUASCALIENTES  RINCON DE ROMOS  VALLE DE AGUASCALIENTES    POZO   \n",
              "4  BAJA CALIFORNIA SUR           LA PAZ             TODOS SANTOS    POZO   \n",
              "\n",
              "    LONGITUD   LATITUD  PERIODO  ...  CUMPLE_CON_DUR CUMPLE_CON_CF  \\\n",
              "0 -102.02210  22.20887     2020  ...              SI            SI   \n",
              "1 -102.20075  21.99958     2020  ...              SI            SI   \n",
              "2 -102.28801  22.36685     2020  ...              SI            SI   \n",
              "3 -102.29449  22.18435     2020  ...              SI            SI   \n",
              "4 -110.24480  23.45138     2020  ...              SI            SI   \n",
              "\n",
              "   CUMPLE_CON_NO3 CUMPLE_CON_AS  CUMPLE_CON_CD CUMPLE_CON_CR CUMPLE_CON_HG  \\\n",
              "0              SI            SI             SI            SI            SI   \n",
              "1              SI            SI             SI            SI            SI   \n",
              "2              SI            NO             SI            SI            SI   \n",
              "3              SI            SI             SI            SI            SI   \n",
              "4              NO            SI             SI            SI            SI   \n",
              "\n",
              "  CUMPLE_CON_PB CUMPLE_CON_MN CUMPLE_CON_FE  \n",
              "0            SI            SI            SI  \n",
              "1            SI            SI            SI  \n",
              "2            SI            SI            SI  \n",
              "3            SI            SI            SI  \n",
              "4            SI            SI            SI  \n",
              "\n",
              "[5 rows x 57 columns]"
            ],
            "text/html": [
              "\n",
              "  <div id=\"df-92235770-bb3f-4f37-aa84-bbb99f919eec\">\n",
              "    <div class=\"colab-df-container\">\n",
              "      <div>\n",
              "<style scoped>\n",
              "    .dataframe tbody tr th:only-of-type {\n",
              "        vertical-align: middle;\n",
              "    }\n",
              "\n",
              "    .dataframe tbody tr th {\n",
              "        vertical-align: top;\n",
              "    }\n",
              "\n",
              "    .dataframe thead th {\n",
              "        text-align: right;\n",
              "    }\n",
              "</style>\n",
              "<table border=\"1\" class=\"dataframe\">\n",
              "  <thead>\n",
              "    <tr style=\"text-align: right;\">\n",
              "      <th></th>\n",
              "      <th>CLAVE</th>\n",
              "      <th>SITIO</th>\n",
              "      <th>ORGANISMO_DE_CUENCA</th>\n",
              "      <th>ESTADO</th>\n",
              "      <th>MUNICIPIO</th>\n",
              "      <th>ACUIFERO</th>\n",
              "      <th>SUBTIPO</th>\n",
              "      <th>LONGITUD</th>\n",
              "      <th>LATITUD</th>\n",
              "      <th>PERIODO</th>\n",
              "      <th>...</th>\n",
              "      <th>CUMPLE_CON_DUR</th>\n",
              "      <th>CUMPLE_CON_CF</th>\n",
              "      <th>CUMPLE_CON_NO3</th>\n",
              "      <th>CUMPLE_CON_AS</th>\n",
              "      <th>CUMPLE_CON_CD</th>\n",
              "      <th>CUMPLE_CON_CR</th>\n",
              "      <th>CUMPLE_CON_HG</th>\n",
              "      <th>CUMPLE_CON_PB</th>\n",
              "      <th>CUMPLE_CON_MN</th>\n",
              "      <th>CUMPLE_CON_FE</th>\n",
              "    </tr>\n",
              "  </thead>\n",
              "  <tbody>\n",
              "    <tr>\n",
              "      <th>0</th>\n",
              "      <td>DLAGU6</td>\n",
              "      <td>POZO SAN GIL</td>\n",
              "      <td>LERMA SANTIAGO PACIFICO</td>\n",
              "      <td>AGUASCALIENTES</td>\n",
              "      <td>ASIENTOS</td>\n",
              "      <td>VALLE DE CHICALOTE</td>\n",
              "      <td>POZO</td>\n",
              "      <td>-102.02210</td>\n",
              "      <td>22.20887</td>\n",
              "      <td>2020</td>\n",
              "      <td>...</td>\n",
              "      <td>SI</td>\n",
              "      <td>SI</td>\n",
              "      <td>SI</td>\n",
              "      <td>SI</td>\n",
              "      <td>SI</td>\n",
              "      <td>SI</td>\n",
              "      <td>SI</td>\n",
              "      <td>SI</td>\n",
              "      <td>SI</td>\n",
              "      <td>SI</td>\n",
              "    </tr>\n",
              "    <tr>\n",
              "      <th>1</th>\n",
              "      <td>DLAGU6516</td>\n",
              "      <td>POZO R013 CAÑADA HONDA</td>\n",
              "      <td>LERMA SANTIAGO PACIFICO</td>\n",
              "      <td>AGUASCALIENTES</td>\n",
              "      <td>AGUASCALIENTES</td>\n",
              "      <td>VALLE DE CHICALOTE</td>\n",
              "      <td>POZO</td>\n",
              "      <td>-102.20075</td>\n",
              "      <td>21.99958</td>\n",
              "      <td>2020</td>\n",
              "      <td>...</td>\n",
              "      <td>SI</td>\n",
              "      <td>SI</td>\n",
              "      <td>SI</td>\n",
              "      <td>SI</td>\n",
              "      <td>SI</td>\n",
              "      <td>SI</td>\n",
              "      <td>SI</td>\n",
              "      <td>SI</td>\n",
              "      <td>SI</td>\n",
              "      <td>SI</td>\n",
              "    </tr>\n",
              "    <tr>\n",
              "      <th>2</th>\n",
              "      <td>DLAGU7</td>\n",
              "      <td>POZO COSIO</td>\n",
              "      <td>LERMA SANTIAGO PACIFICO</td>\n",
              "      <td>AGUASCALIENTES</td>\n",
              "      <td>COSIO</td>\n",
              "      <td>VALLE DE AGUASCALIENTES</td>\n",
              "      <td>POZO</td>\n",
              "      <td>-102.28801</td>\n",
              "      <td>22.36685</td>\n",
              "      <td>2020</td>\n",
              "      <td>...</td>\n",
              "      <td>SI</td>\n",
              "      <td>SI</td>\n",
              "      <td>SI</td>\n",
              "      <td>NO</td>\n",
              "      <td>SI</td>\n",
              "      <td>SI</td>\n",
              "      <td>SI</td>\n",
              "      <td>SI</td>\n",
              "      <td>SI</td>\n",
              "      <td>SI</td>\n",
              "    </tr>\n",
              "    <tr>\n",
              "      <th>3</th>\n",
              "      <td>DLAGU9</td>\n",
              "      <td>POZO EL SALITRILLO</td>\n",
              "      <td>LERMA SANTIAGO PACIFICO</td>\n",
              "      <td>AGUASCALIENTES</td>\n",
              "      <td>RINCON DE ROMOS</td>\n",
              "      <td>VALLE DE AGUASCALIENTES</td>\n",
              "      <td>POZO</td>\n",
              "      <td>-102.29449</td>\n",
              "      <td>22.18435</td>\n",
              "      <td>2020</td>\n",
              "      <td>...</td>\n",
              "      <td>SI</td>\n",
              "      <td>SI</td>\n",
              "      <td>SI</td>\n",
              "      <td>SI</td>\n",
              "      <td>SI</td>\n",
              "      <td>SI</td>\n",
              "      <td>SI</td>\n",
              "      <td>SI</td>\n",
              "      <td>SI</td>\n",
              "      <td>SI</td>\n",
              "    </tr>\n",
              "    <tr>\n",
              "      <th>4</th>\n",
              "      <td>DLBAJ107</td>\n",
              "      <td>RANCHO EL TECOLOTE</td>\n",
              "      <td>PENINSULA DE BAJA CALIFORNIA</td>\n",
              "      <td>BAJA CALIFORNIA SUR</td>\n",
              "      <td>LA PAZ</td>\n",
              "      <td>TODOS SANTOS</td>\n",
              "      <td>POZO</td>\n",
              "      <td>-110.24480</td>\n",
              "      <td>23.45138</td>\n",
              "      <td>2020</td>\n",
              "      <td>...</td>\n",
              "      <td>SI</td>\n",
              "      <td>SI</td>\n",
              "      <td>NO</td>\n",
              "      <td>SI</td>\n",
              "      <td>SI</td>\n",
              "      <td>SI</td>\n",
              "      <td>SI</td>\n",
              "      <td>SI</td>\n",
              "      <td>SI</td>\n",
              "      <td>SI</td>\n",
              "    </tr>\n",
              "  </tbody>\n",
              "</table>\n",
              "<p>5 rows × 57 columns</p>\n",
              "</div>\n",
              "      <button class=\"colab-df-convert\" onclick=\"convertToInteractive('df-92235770-bb3f-4f37-aa84-bbb99f919eec')\"\n",
              "              title=\"Convert this dataframe to an interactive table.\"\n",
              "              style=\"display:none;\">\n",
              "        \n",
              "  <svg xmlns=\"http://www.w3.org/2000/svg\" height=\"24px\"viewBox=\"0 0 24 24\"\n",
              "       width=\"24px\">\n",
              "    <path d=\"M0 0h24v24H0V0z\" fill=\"none\"/>\n",
              "    <path d=\"M18.56 5.44l.94 2.06.94-2.06 2.06-.94-2.06-.94-.94-2.06-.94 2.06-2.06.94zm-11 1L8.5 8.5l.94-2.06 2.06-.94-2.06-.94L8.5 2.5l-.94 2.06-2.06.94zm10 10l.94 2.06.94-2.06 2.06-.94-2.06-.94-.94-2.06-.94 2.06-2.06.94z\"/><path d=\"M17.41 7.96l-1.37-1.37c-.4-.4-.92-.59-1.43-.59-.52 0-1.04.2-1.43.59L10.3 9.45l-7.72 7.72c-.78.78-.78 2.05 0 2.83L4 21.41c.39.39.9.59 1.41.59.51 0 1.02-.2 1.41-.59l7.78-7.78 2.81-2.81c.8-.78.8-2.07 0-2.86zM5.41 20L4 18.59l7.72-7.72 1.47 1.35L5.41 20z\"/>\n",
              "  </svg>\n",
              "      </button>\n",
              "      \n",
              "  <style>\n",
              "    .colab-df-container {\n",
              "      display:flex;\n",
              "      flex-wrap:wrap;\n",
              "      gap: 12px;\n",
              "    }\n",
              "\n",
              "    .colab-df-convert {\n",
              "      background-color: #E8F0FE;\n",
              "      border: none;\n",
              "      border-radius: 50%;\n",
              "      cursor: pointer;\n",
              "      display: none;\n",
              "      fill: #1967D2;\n",
              "      height: 32px;\n",
              "      padding: 0 0 0 0;\n",
              "      width: 32px;\n",
              "    }\n",
              "\n",
              "    .colab-df-convert:hover {\n",
              "      background-color: #E2EBFA;\n",
              "      box-shadow: 0px 1px 2px rgba(60, 64, 67, 0.3), 0px 1px 3px 1px rgba(60, 64, 67, 0.15);\n",
              "      fill: #174EA6;\n",
              "    }\n",
              "\n",
              "    [theme=dark] .colab-df-convert {\n",
              "      background-color: #3B4455;\n",
              "      fill: #D2E3FC;\n",
              "    }\n",
              "\n",
              "    [theme=dark] .colab-df-convert:hover {\n",
              "      background-color: #434B5C;\n",
              "      box-shadow: 0px 1px 3px 1px rgba(0, 0, 0, 0.15);\n",
              "      filter: drop-shadow(0px 1px 2px rgba(0, 0, 0, 0.3));\n",
              "      fill: #FFFFFF;\n",
              "    }\n",
              "  </style>\n",
              "\n",
              "      <script>\n",
              "        const buttonEl =\n",
              "          document.querySelector('#df-92235770-bb3f-4f37-aa84-bbb99f919eec button.colab-df-convert');\n",
              "        buttonEl.style.display =\n",
              "          google.colab.kernel.accessAllowed ? 'block' : 'none';\n",
              "\n",
              "        async function convertToInteractive(key) {\n",
              "          const element = document.querySelector('#df-92235770-bb3f-4f37-aa84-bbb99f919eec');\n",
              "          const dataTable =\n",
              "            await google.colab.kernel.invokeFunction('convertToInteractive',\n",
              "                                                     [key], {});\n",
              "          if (!dataTable) return;\n",
              "\n",
              "          const docLinkHtml = 'Like what you see? Visit the ' +\n",
              "            '<a target=\"_blank\" href=https://colab.research.google.com/notebooks/data_table.ipynb>data table notebook</a>'\n",
              "            + ' to learn more about interactive tables.';\n",
              "          element.innerHTML = '';\n",
              "          dataTable['output_type'] = 'display_data';\n",
              "          await google.colab.output.renderOutput(dataTable, element);\n",
              "          const docLink = document.createElement('div');\n",
              "          docLink.innerHTML = docLinkHtml;\n",
              "          element.appendChild(docLink);\n",
              "        }\n",
              "      </script>\n",
              "    </div>\n",
              "  </div>\n",
              "  "
            ]
          },
          "metadata": {},
          "execution_count": 2
        }
      ]
    },
    {
      "cell_type": "markdown",
      "source": [
        "##Limpieza anterior"
      ],
      "metadata": {
        "id": "3D8mfaBlzpqa"
      }
    },
    {
      "cell_type": "code",
      "source": [
        "#Eliminamos las columnas con mayor cantidad de datos nulos.\n",
        "ndf = df.copy()\n",
        "ndf.drop(columns=['SDT_mg/L','CONTAMINANTES'], inplace=True)"
      ],
      "metadata": {
        "id": "CvZ5aM-0wLK3"
      },
      "execution_count": null,
      "outputs": []
    },
    {
      "cell_type": "code",
      "source": [
        "#Hacemos una lista con las columnas numéricas.\n",
        "#Se le quita el \"<\" para Phyton pueda leer esos datos como numéricos.\n",
        "num_posibles=[\"SDT_M_mg/L\",\"FLUORUROS_mg/L\",\"DUR_mg/L\",\"COLI_FEC_NMP/100_mL\",\n",
        "              \"N_NO3_mg/L\",\"AS_TOT_mg/L\",\"CD_TOT_mg/L\",\"CR_TOT_mg/L\",\n",
        "              \"HG_TOT_mg/L\",\"PB_TOT_mg/L\",\"MN_TOT_mg/L\",\"FE_TOT_mg/L\"]\n",
        "\n",
        "ndf[num_posibles]=ndf[num_posibles].replace({'<':''}, regex=True)\n",
        "ndf[num_posibles]=ndf[num_posibles].astype(float)"
      ],
      "metadata": {
        "id": "IdtXqZ4ly-dc"
      },
      "execution_count": null,
      "outputs": []
    },
    {
      "cell_type": "code",
      "source": [
        "#Todas las columnas de tipo objeto, las añadimos a las de tipo cualitativo.\n",
        "#Son dos listas, una para datos de tipo numérico, y otra para tipo cualitativo.\n",
        "cual_col=[]\n",
        "num_col=[]\n",
        "for n in ndf:\n",
        "  if (ndf[n].dtype)=='object':\n",
        "    cual_col.append(n)\n",
        "  else:\n",
        "    num_col.append(n)"
      ],
      "metadata": {
        "id": "Puz8peJFyy8R"
      },
      "execution_count": null,
      "outputs": []
    },
    {
      "cell_type": "code",
      "source": [
        "#Las numéricas las completamos con la media, y las categóricas con la moda.\n",
        "for c in num_col:\n",
        "  ndf[c]=ndf[c].fillna(ndf[c].median())\n",
        "for c in cual_col:\n",
        "  ndf[c]=ndf[c].fillna(ndf[c].mode()[0])"
      ],
      "metadata": {
        "id": "eLEy0KyOwLUX"
      },
      "execution_count": null,
      "outputs": []
    },
    {
      "cell_type": "code",
      "source": [
        "#Checamos si ya no hay datos nulos.\n",
        "ndf.isnull().sum()"
      ],
      "metadata": {
        "colab": {
          "base_uri": "https://localhost:8080/"
        },
        "id": "l6ynJ_IRza-Y",
        "outputId": "5b9c325e-35fd-4d3e-b626-eeae89da8756"
      },
      "execution_count": null,
      "outputs": [
        {
          "output_type": "execute_result",
          "data": {
            "text/plain": [
              "CLAVE                   0\n",
              "SITIO                   0\n",
              "ORGANISMO_DE_CUENCA     0\n",
              "ESTADO                  0\n",
              "MUNICIPIO               0\n",
              "ACUIFERO                0\n",
              "SUBTIPO                 0\n",
              "LONGITUD                0\n",
              "LATITUD                 0\n",
              "PERIODO                 0\n",
              "ALC_mg/L                0\n",
              "CALIDAD_ALC             0\n",
              "CONDUCT_mS/cm           0\n",
              "CALIDAD_CONDUC          0\n",
              "SDT_M_mg/L              0\n",
              "CALIDAD_SDT_ra          0\n",
              "CALIDAD_SDT_salin       0\n",
              "FLUORUROS_mg/L          0\n",
              "CALIDAD_FLUO            0\n",
              "DUR_mg/L                0\n",
              "CALIDAD_DUR             0\n",
              "COLI_FEC_NMP/100_mL     0\n",
              "CALIDAD_COLI_FEC        0\n",
              "N_NO3_mg/L              0\n",
              "CALIDAD_N_NO3           0\n",
              "AS_TOT_mg/L             0\n",
              "CALIDAD_AS              0\n",
              "CD_TOT_mg/L             0\n",
              "CALIDAD_CD              0\n",
              "CR_TOT_mg/L             0\n",
              "CALIDAD_CR              0\n",
              "HG_TOT_mg/L             0\n",
              "CALIDAD_HG              0\n",
              "PB_TOT_mg/L             0\n",
              "CALIDAD_PB              0\n",
              "MN_TOT_mg/L             0\n",
              "CALIDAD_MN              0\n",
              "FE_TOT_mg/L             0\n",
              "CALIDAD_FE              0\n",
              "SEMAFORO                0\n",
              "CUMPLE_CON_ALC          0\n",
              "CUMPLE_CON_COND         0\n",
              "CUMPLE_CON_SDT_ra       0\n",
              "CUMPLE_CON_SDT_salin    0\n",
              "CUMPLE_CON_FLUO         0\n",
              "CUMPLE_CON_DUR          0\n",
              "CUMPLE_CON_CF           0\n",
              "CUMPLE_CON_NO3          0\n",
              "CUMPLE_CON_AS           0\n",
              "CUMPLE_CON_CD           0\n",
              "CUMPLE_CON_CR           0\n",
              "CUMPLE_CON_HG           0\n",
              "CUMPLE_CON_PB           0\n",
              "CUMPLE_CON_MN           0\n",
              "CUMPLE_CON_FE           0\n",
              "dtype: int64"
            ]
          },
          "metadata": {},
          "execution_count": 7
        }
      ]
    },
    {
      "cell_type": "markdown",
      "source": [
        "##Selecciona tus variables independientes X y dependiente Y (semáforo)"
      ],
      "metadata": {
        "id": "3demO-kJz0QY"
      }
    },
    {
      "cell_type": "code",
      "source": [
        "#Dividimos las columnas que usaremos como variables independientes \"X\", y la variable de salida \"Y\".\n",
        "X=ndf[['CLAVE', 'SITIO', 'ORGANISMO_DE_CUENCA', 'ESTADO', 'MUNICIPIO',\n",
        "       'ACUIFERO', 'SUBTIPO', 'LONGITUD', 'LATITUD', 'PERIODO', 'ALC_mg/L',\n",
        "       'CALIDAD_ALC', 'CONDUCT_mS/cm', 'CALIDAD_CONDUC', 'SDT_M_mg/L',\n",
        "       'CALIDAD_SDT_ra', 'CALIDAD_SDT_salin', 'FLUORUROS_mg/L', 'CALIDAD_FLUO',\n",
        "       'DUR_mg/L', 'CALIDAD_DUR', 'COLI_FEC_NMP/100_mL', 'CALIDAD_COLI_FEC',\n",
        "       'N_NO3_mg/L', 'CALIDAD_N_NO3', 'AS_TOT_mg/L', 'CALIDAD_AS',\n",
        "       'CD_TOT_mg/L', 'CALIDAD_CD', 'CR_TOT_mg/L', 'CALIDAD_CR', 'HG_TOT_mg/L',\n",
        "       'CALIDAD_HG', 'PB_TOT_mg/L', 'CALIDAD_PB', 'MN_TOT_mg/L', 'CALIDAD_MN',\n",
        "       'FE_TOT_mg/L', 'CALIDAD_FE', 'CUMPLE_CON_ALC',\n",
        "       'CUMPLE_CON_COND', 'CUMPLE_CON_SDT_ra', 'CUMPLE_CON_SDT_salin',\n",
        "       'CUMPLE_CON_FLUO', 'CUMPLE_CON_DUR', 'CUMPLE_CON_CF', 'CUMPLE_CON_NO3',\n",
        "       'CUMPLE_CON_AS', 'CUMPLE_CON_CD', 'CUMPLE_CON_CR', 'CUMPLE_CON_HG',\n",
        "       'CUMPLE_CON_PB', 'CUMPLE_CON_MN', 'CUMPLE_CON_FE']]\n",
        "y=ndf[['SEMAFORO']]"
      ],
      "metadata": {
        "id": "Opl0wQ-8zwl7"
      },
      "execution_count": null,
      "outputs": []
    },
    {
      "cell_type": "markdown",
      "source": [
        "##Cambia a label encoding el semáforo, ej, de [\"clase 1\", \"clase 2\", \"clase 3\"] a [ 1,2,3]"
      ],
      "metadata": {
        "id": "uu9i22Xm0Vjc"
      }
    },
    {
      "cell_type": "code",
      "source": [
        "#Usamos label encoder, para convertir las clases del semáforo de categóricas a numéricas.\n",
        "from sklearn import preprocessing\n",
        "le = preprocessing.LabelEncoder()"
      ],
      "metadata": {
        "id": "bsL-0deY0Yq1"
      },
      "execution_count": null,
      "outputs": []
    },
    {
      "cell_type": "code",
      "source": [
        "#Transformamos las clases.\n",
        "y['SEMAFORO']=le.fit_transform(y['SEMAFORO'])"
      ],
      "metadata": {
        "colab": {
          "base_uri": "https://localhost:8080/"
        },
        "id": "CsBDefnm0YxM",
        "outputId": "984643f2-2a26-42f9-ef54-6603a653fc7e"
      },
      "execution_count": null,
      "outputs": [
        {
          "output_type": "stream",
          "name": "stderr",
          "text": [
            "/usr/local/lib/python3.7/dist-packages/ipykernel_launcher.py:1: SettingWithCopyWarning: \n",
            "A value is trying to be set on a copy of a slice from a DataFrame.\n",
            "Try using .loc[row_indexer,col_indexer] = value instead\n",
            "\n",
            "See the caveats in the documentation: https://pandas.pydata.org/pandas-docs/stable/user_guide/indexing.html#returning-a-view-versus-a-copy\n",
            "  \"\"\"Entry point for launching an IPython kernel.\n"
          ]
        }
      ]
    },
    {
      "cell_type": "code",
      "source": [
        "#Revisamos qué clases fueron las que se encontraron.\n",
        "le.classes_"
      ],
      "metadata": {
        "colab": {
          "base_uri": "https://localhost:8080/"
        },
        "id": "fWh2QBi03hxB",
        "outputId": "8877fbb7-5092-481a-9438-ee100998cb67"
      },
      "execution_count": null,
      "outputs": [
        {
          "output_type": "execute_result",
          "data": {
            "text/plain": [
              "array(['Amarillo', 'Rojo', 'Verde'], dtype=object)"
            ]
          },
          "metadata": {},
          "execution_count": 11
        }
      ]
    },
    {
      "cell_type": "code",
      "source": [
        "#Transformamos a 0, 1, 2.\n",
        "le.inverse_transform([0,1,2])"
      ],
      "metadata": {
        "colab": {
          "base_uri": "https://localhost:8080/"
        },
        "id": "1y_201D13iFC",
        "outputId": "9b8b59ea-0119-4366-9835-9f56f94ed902"
      },
      "execution_count": null,
      "outputs": [
        {
          "output_type": "execute_result",
          "data": {
            "text/plain": [
              "array(['Amarillo', 'Rojo', 'Verde'], dtype=object)"
            ]
          },
          "metadata": {},
          "execution_count": 12
        }
      ]
    },
    {
      "cell_type": "code",
      "source": [
        "#Convertimos todas las variables categóricas a numéricas, codificando dichas variables\n",
        "for c in X.columns:\n",
        "  X[c]=le.fit_transform(X[c])"
      ],
      "metadata": {
        "colab": {
          "base_uri": "https://localhost:8080/"
        },
        "id": "r1i-YIomkeqO",
        "outputId": "8e035765-7a96-4628-9bd2-4f0240ca81c7"
      },
      "execution_count": null,
      "outputs": [
        {
          "output_type": "stream",
          "name": "stderr",
          "text": [
            "/usr/local/lib/python3.7/dist-packages/ipykernel_launcher.py:2: SettingWithCopyWarning: \n",
            "A value is trying to be set on a copy of a slice from a DataFrame.\n",
            "Try using .loc[row_indexer,col_indexer] = value instead\n",
            "\n",
            "See the caveats in the documentation: https://pandas.pydata.org/pandas-docs/stable/user_guide/indexing.html#returning-a-view-versus-a-copy\n",
            "  \n"
          ]
        }
      ]
    },
    {
      "cell_type": "markdown",
      "source": [
        "##Realiza un análisis general de las features importances a traves de decision trees o random forest."
      ],
      "metadata": {
        "id": "tIJj9q_D34gr"
      }
    },
    {
      "cell_type": "code",
      "source": [
        "#Preparamos para hacer un bosque aleatorio\n",
        "#Revisamos la importancia de cada una de las columnas para el algoritmo\n",
        "rnd_clf = RandomForestClassifier(n_estimators=500, random_state=42)\n",
        "rnd_clf.fit(X, y)\n",
        "s=[]\n",
        "n=[]\n",
        "for score, name in zip(rnd_clf.feature_importances_, X.columns):\n",
        "  s.append(score)\n",
        "  n.append(name)\n",
        "  print(round(score, 2),name)"
      ],
      "metadata": {
        "colab": {
          "base_uri": "https://localhost:8080/"
        },
        "id": "avFHg1Hrk60i",
        "outputId": "09ce645d-3721-4c00-9797-a3559c5269ef"
      },
      "execution_count": null,
      "outputs": [
        {
          "output_type": "stream",
          "name": "stderr",
          "text": [
            "/usr/local/lib/python3.7/dist-packages/ipykernel_launcher.py:2: DataConversionWarning: A column-vector y was passed when a 1d array was expected. Please change the shape of y to (n_samples,), for example using ravel().\n",
            "  \n"
          ]
        },
        {
          "output_type": "stream",
          "name": "stdout",
          "text": [
            "0.04 CONDUCT_mS/cm\n",
            "0.05 SDT_M_mg/L\n",
            "0.09 FLUORUROS_mg/L\n",
            "0.07 CALIDAD_FLUO\n",
            "0.07 DUR_mg/L\n",
            "0.05 CALIDAD_DUR\n",
            "0.06 COLI_FEC_NMP/100_mL\n",
            "0.06 N_NO3_mg/L\n",
            "0.04 CALIDAD_N_NO3\n",
            "0.06 AS_TOT_mg/L\n",
            "0.04 MN_TOT_mg/L\n",
            "0.02 CALIDAD_MN\n",
            "0.04 FE_TOT_mg/L\n",
            "0.03 CALIDAD_FE\n",
            "0.07 CUMPLE_CON_FLUO\n",
            "0.04 CUMPLE_CON_DUR\n",
            "0.04 CUMPLE_CON_CF\n",
            "0.03 CUMPLE_CON_NO3\n",
            "0.05 CUMPLE_CON_AS\n",
            "0.02 CUMPLE_CON_MN\n",
            "0.02 CUMPLE_CON_FE\n"
          ]
        }
      ]
    },
    {
      "cell_type": "code",
      "source": [
        "#Identificamos las variables independientes de mayor relevancia.\n",
        "scores = pd.DataFrame(n,s)\n",
        "scores.sort_index(ascending=False)"
      ],
      "metadata": {
        "colab": {
          "base_uri": "https://localhost:8080/",
          "height": 708
        },
        "id": "S-SPNFYY8LOQ",
        "outputId": "62fc2478-ebea-4c9d-aff1-eedcc4358e90"
      },
      "execution_count": null,
      "outputs": [
        {
          "output_type": "execute_result",
          "data": {
            "text/plain": [
              "                            0\n",
              "0.091732       FLUORUROS_mg/L\n",
              "0.072638      CUMPLE_CON_FLUO\n",
              "0.071891             DUR_mg/L\n",
              "0.067960         CALIDAD_FLUO\n",
              "0.060410          AS_TOT_mg/L\n",
              "0.059849           N_NO3_mg/L\n",
              "0.055149  COLI_FEC_NMP/100_mL\n",
              "0.050958          CALIDAD_DUR\n",
              "0.048621           SDT_M_mg/L\n",
              "0.045075        CUMPLE_CON_AS\n",
              "0.043798        CONDUCT_mS/cm\n",
              "0.043469        CUMPLE_CON_CF\n",
              "0.042402          FE_TOT_mg/L\n",
              "0.040675        CALIDAD_N_NO3\n",
              "0.039960       CUMPLE_CON_DUR\n",
              "0.038190          MN_TOT_mg/L\n",
              "0.033914       CUMPLE_CON_NO3\n",
              "0.025076           CALIDAD_FE\n",
              "0.024096        CUMPLE_CON_FE\n",
              "0.022377           CALIDAD_MN\n",
              "0.021759        CUMPLE_CON_MN"
            ],
            "text/html": [
              "\n",
              "  <div id=\"df-e5438324-b443-4147-942e-d1c513d5ccce\">\n",
              "    <div class=\"colab-df-container\">\n",
              "      <div>\n",
              "<style scoped>\n",
              "    .dataframe tbody tr th:only-of-type {\n",
              "        vertical-align: middle;\n",
              "    }\n",
              "\n",
              "    .dataframe tbody tr th {\n",
              "        vertical-align: top;\n",
              "    }\n",
              "\n",
              "    .dataframe thead th {\n",
              "        text-align: right;\n",
              "    }\n",
              "</style>\n",
              "<table border=\"1\" class=\"dataframe\">\n",
              "  <thead>\n",
              "    <tr style=\"text-align: right;\">\n",
              "      <th></th>\n",
              "      <th>0</th>\n",
              "    </tr>\n",
              "  </thead>\n",
              "  <tbody>\n",
              "    <tr>\n",
              "      <th>0.091732</th>\n",
              "      <td>FLUORUROS_mg/L</td>\n",
              "    </tr>\n",
              "    <tr>\n",
              "      <th>0.072638</th>\n",
              "      <td>CUMPLE_CON_FLUO</td>\n",
              "    </tr>\n",
              "    <tr>\n",
              "      <th>0.071891</th>\n",
              "      <td>DUR_mg/L</td>\n",
              "    </tr>\n",
              "    <tr>\n",
              "      <th>0.067960</th>\n",
              "      <td>CALIDAD_FLUO</td>\n",
              "    </tr>\n",
              "    <tr>\n",
              "      <th>0.060410</th>\n",
              "      <td>AS_TOT_mg/L</td>\n",
              "    </tr>\n",
              "    <tr>\n",
              "      <th>0.059849</th>\n",
              "      <td>N_NO3_mg/L</td>\n",
              "    </tr>\n",
              "    <tr>\n",
              "      <th>0.055149</th>\n",
              "      <td>COLI_FEC_NMP/100_mL</td>\n",
              "    </tr>\n",
              "    <tr>\n",
              "      <th>0.050958</th>\n",
              "      <td>CALIDAD_DUR</td>\n",
              "    </tr>\n",
              "    <tr>\n",
              "      <th>0.048621</th>\n",
              "      <td>SDT_M_mg/L</td>\n",
              "    </tr>\n",
              "    <tr>\n",
              "      <th>0.045075</th>\n",
              "      <td>CUMPLE_CON_AS</td>\n",
              "    </tr>\n",
              "    <tr>\n",
              "      <th>0.043798</th>\n",
              "      <td>CONDUCT_mS/cm</td>\n",
              "    </tr>\n",
              "    <tr>\n",
              "      <th>0.043469</th>\n",
              "      <td>CUMPLE_CON_CF</td>\n",
              "    </tr>\n",
              "    <tr>\n",
              "      <th>0.042402</th>\n",
              "      <td>FE_TOT_mg/L</td>\n",
              "    </tr>\n",
              "    <tr>\n",
              "      <th>0.040675</th>\n",
              "      <td>CALIDAD_N_NO3</td>\n",
              "    </tr>\n",
              "    <tr>\n",
              "      <th>0.039960</th>\n",
              "      <td>CUMPLE_CON_DUR</td>\n",
              "    </tr>\n",
              "    <tr>\n",
              "      <th>0.038190</th>\n",
              "      <td>MN_TOT_mg/L</td>\n",
              "    </tr>\n",
              "    <tr>\n",
              "      <th>0.033914</th>\n",
              "      <td>CUMPLE_CON_NO3</td>\n",
              "    </tr>\n",
              "    <tr>\n",
              "      <th>0.025076</th>\n",
              "      <td>CALIDAD_FE</td>\n",
              "    </tr>\n",
              "    <tr>\n",
              "      <th>0.024096</th>\n",
              "      <td>CUMPLE_CON_FE</td>\n",
              "    </tr>\n",
              "    <tr>\n",
              "      <th>0.022377</th>\n",
              "      <td>CALIDAD_MN</td>\n",
              "    </tr>\n",
              "    <tr>\n",
              "      <th>0.021759</th>\n",
              "      <td>CUMPLE_CON_MN</td>\n",
              "    </tr>\n",
              "  </tbody>\n",
              "</table>\n",
              "</div>\n",
              "      <button class=\"colab-df-convert\" onclick=\"convertToInteractive('df-e5438324-b443-4147-942e-d1c513d5ccce')\"\n",
              "              title=\"Convert this dataframe to an interactive table.\"\n",
              "              style=\"display:none;\">\n",
              "        \n",
              "  <svg xmlns=\"http://www.w3.org/2000/svg\" height=\"24px\"viewBox=\"0 0 24 24\"\n",
              "       width=\"24px\">\n",
              "    <path d=\"M0 0h24v24H0V0z\" fill=\"none\"/>\n",
              "    <path d=\"M18.56 5.44l.94 2.06.94-2.06 2.06-.94-2.06-.94-.94-2.06-.94 2.06-2.06.94zm-11 1L8.5 8.5l.94-2.06 2.06-.94-2.06-.94L8.5 2.5l-.94 2.06-2.06.94zm10 10l.94 2.06.94-2.06 2.06-.94-2.06-.94-.94-2.06-.94 2.06-2.06.94z\"/><path d=\"M17.41 7.96l-1.37-1.37c-.4-.4-.92-.59-1.43-.59-.52 0-1.04.2-1.43.59L10.3 9.45l-7.72 7.72c-.78.78-.78 2.05 0 2.83L4 21.41c.39.39.9.59 1.41.59.51 0 1.02-.2 1.41-.59l7.78-7.78 2.81-2.81c.8-.78.8-2.07 0-2.86zM5.41 20L4 18.59l7.72-7.72 1.47 1.35L5.41 20z\"/>\n",
              "  </svg>\n",
              "      </button>\n",
              "      \n",
              "  <style>\n",
              "    .colab-df-container {\n",
              "      display:flex;\n",
              "      flex-wrap:wrap;\n",
              "      gap: 12px;\n",
              "    }\n",
              "\n",
              "    .colab-df-convert {\n",
              "      background-color: #E8F0FE;\n",
              "      border: none;\n",
              "      border-radius: 50%;\n",
              "      cursor: pointer;\n",
              "      display: none;\n",
              "      fill: #1967D2;\n",
              "      height: 32px;\n",
              "      padding: 0 0 0 0;\n",
              "      width: 32px;\n",
              "    }\n",
              "\n",
              "    .colab-df-convert:hover {\n",
              "      background-color: #E2EBFA;\n",
              "      box-shadow: 0px 1px 2px rgba(60, 64, 67, 0.3), 0px 1px 3px 1px rgba(60, 64, 67, 0.15);\n",
              "      fill: #174EA6;\n",
              "    }\n",
              "\n",
              "    [theme=dark] .colab-df-convert {\n",
              "      background-color: #3B4455;\n",
              "      fill: #D2E3FC;\n",
              "    }\n",
              "\n",
              "    [theme=dark] .colab-df-convert:hover {\n",
              "      background-color: #434B5C;\n",
              "      box-shadow: 0px 1px 3px 1px rgba(0, 0, 0, 0.15);\n",
              "      filter: drop-shadow(0px 1px 2px rgba(0, 0, 0, 0.3));\n",
              "      fill: #FFFFFF;\n",
              "    }\n",
              "  </style>\n",
              "\n",
              "      <script>\n",
              "        const buttonEl =\n",
              "          document.querySelector('#df-e5438324-b443-4147-942e-d1c513d5ccce button.colab-df-convert');\n",
              "        buttonEl.style.display =\n",
              "          google.colab.kernel.accessAllowed ? 'block' : 'none';\n",
              "\n",
              "        async function convertToInteractive(key) {\n",
              "          const element = document.querySelector('#df-e5438324-b443-4147-942e-d1c513d5ccce');\n",
              "          const dataTable =\n",
              "            await google.colab.kernel.invokeFunction('convertToInteractive',\n",
              "                                                     [key], {});\n",
              "          if (!dataTable) return;\n",
              "\n",
              "          const docLinkHtml = 'Like what you see? Visit the ' +\n",
              "            '<a target=\"_blank\" href=https://colab.research.google.com/notebooks/data_table.ipynb>data table notebook</a>'\n",
              "            + ' to learn more about interactive tables.';\n",
              "          element.innerHTML = '';\n",
              "          dataTable['output_type'] = 'display_data';\n",
              "          await google.colab.output.renderOutput(dataTable, element);\n",
              "          const docLink = document.createElement('div');\n",
              "          docLink.innerHTML = docLinkHtml;\n",
              "          element.appendChild(docLink);\n",
              "        }\n",
              "      </script>\n",
              "    </div>\n",
              "  </div>\n",
              "  "
            ]
          },
          "metadata": {},
          "execution_count": 83
        }
      ]
    },
    {
      "cell_type": "code",
      "source": [
        "#Graficamos las variables independientes de mayor relevancia.\n",
        "fig, ax = plt.subplots(figsize =(6, 12))\n",
        " \n",
        "# Horizontal Bar Plot\n",
        "name = n\n",
        "cant = s\n",
        "ax.barh(name, cant)\n",
        " \n",
        "# Remove axes splines\n",
        "for p in ['top', 'bottom', 'left', 'right']:\n",
        "    ax.spines[p].set_visible(False)\n",
        " \n",
        "# Remove x, y Ticks\n",
        "ax.xaxis.set_ticks_position('none')\n",
        "ax.yaxis.set_ticks_position('none')\n",
        " \n",
        "# Add padding between axes and labels\n",
        "ax.xaxis.set_tick_params(pad = 5)\n",
        "ax.yaxis.set_tick_params(pad = 5)\n",
        " \n",
        "# Add x, y gridlines\n",
        "ax.grid(b = True, color ='grey',\n",
        "        linestyle ='-.', linewidth = 0.5,\n",
        "        alpha = 0.2)\n",
        " \n",
        "# Show top values\n",
        "ax.invert_yaxis()\n",
        " \n",
        "# Add annotation to bars\n",
        "for i in ax.patches:\n",
        "    plt.text(i.get_width()+0.001, i.get_y()+0.5,\n",
        "             str(round((i.get_width()), 2)),\n",
        "             fontsize = 10, fontweight ='bold',\n",
        "             color ='grey')\n",
        " \n",
        "# Add Plot Title\n",
        "ax.set_title('Importancia de variables',\n",
        "             loc ='left', )\n",
        " \n",
        "# Add Text watermark\n",
        "fig.text(0.9, 0.15, \"Features\",fontsize = 12,\n",
        "         color ='grey', ha ='right', va ='bottom',\n",
        "         alpha = 0.7)\n",
        " \n",
        "# Show Plot\n",
        "plt.show()"
      ],
      "metadata": {
        "colab": {
          "base_uri": "https://localhost:8080/",
          "height": 718
        },
        "id": "8bSwxKp_3VVg",
        "outputId": "c0dac68a-d229-4309-aa55-bf63cb5ff60b"
      },
      "execution_count": null,
      "outputs": [
        {
          "output_type": "display_data",
          "data": {
            "text/plain": [
              "<Figure size 432x864 with 1 Axes>"
            ],
            "image/png": "[encoded data removed]"
          },
          "metadata": {
            "needs_background": "light"
          }
        }
      ]
    },
    {
      "cell_type": "markdown",
      "source": [
        "##Selecciona las variables de mayor importancia."
      ],
      "metadata": {
        "id": "PSI3SLk6zxQI"
      }
    },
    {
      "cell_type": "code",
      "source": [
        "#0.01 CLAVE\n",
        "#0.01 MUNICIPIO\n",
        "#0.01 LONGITUD\n",
        "#0.01 LATITUD\n",
        "#0.01 ALC_mg/L\n",
        "#0.01 CALIDAD_SDT_ra\n",
        "#0.01 CALIDAD_SDT_salin\n",
        "#0.01 CALIDAD_COLI_FEC\n",
        "#0.01 CALIDAD_AS\n",
        "#0.01 CR_TOT_mg/L\n",
        "#0.01 CALIDAD_CR\n",
        "#0.01 PB_TOT_mg/L\n",
        "#0.01 CUMPLE_CON_ALC\n",
        "#0.01 CUMPLE_CON_COND\n",
        "#0.01 CUMPLE_CON_CR\n",
        "\n",
        "#0.03 CONDUCT_mS/cm\n",
        "#0.03 SDT_M_mg/L\n",
        "#0.08 FLUORUROS_mg/L\n",
        "#0.07 CALIDAD_FLUO\n",
        "#0.05 DUR_mg/L\n",
        "#0.05 CALIDAD_DUR\n",
        "#0.04 COLI_FEC_NMP/100_mL\n",
        "#0.04 N_NO3_mg/L\n",
        "#0.04 CALIDAD_N_NO3\n",
        "#0.05 AS_TOT_mg/L\n",
        "#0.03 MN_TOT_mg/L\n",
        "#0.02 CALIDAD_MN\n",
        "#0.03 FE_TOT_mg/L\n",
        "#0.02 CALIDAD_FE\n",
        "#0.07 CUMPLE_CON_FLUO\n",
        "#0.04 CUMPLE_CON_DUR\n",
        "#0.04 CUMPLE_CON_CF\n",
        "#0.03 CUMPLE_CON_NO3\n",
        "#0.04 CUMPLE_CON_AS\n",
        "#0.02 CUMPLE_CON_MN\n",
        "#0.02 CUMPLE_CON_FE\n"
      ],
      "metadata": {
        "id": "4AtD8G6glXX8"
      },
      "execution_count": null,
      "outputs": []
    },
    {
      "cell_type": "code",
      "source": [
        "#Seleccionamos las variables de mayor importancia\n",
        "X = ndf[['CONDUCT_mS/cm','SDT_M_mg/L','FLUORUROS_mg/L','CALIDAD_FLUO','DUR_mg/L',\n",
        "        'CALIDAD_DUR','COLI_FEC_NMP/100_mL','N_NO3_mg/L','CALIDAD_N_NO3','AS_TOT_mg/L',\n",
        "        'MN_TOT_mg/L','CALIDAD_MN','FE_TOT_mg/L','CALIDAD_FE','CUMPLE_CON_FLUO',\n",
        "        'CUMPLE_CON_DUR','CUMPLE_CON_CF','CUMPLE_CON_NO3','CUMPLE_CON_AS','CUMPLE_CON_MN',\n",
        "        'CUMPLE_CON_FE']]"
      ],
      "metadata": {
        "id": "oB2LJJNPpY5R"
      },
      "execution_count": null,
      "outputs": []
    },
    {
      "cell_type": "code",
      "source": [
        "#Convertimos las variables categóricas a numéricas\n",
        "for c in X.columns:\n",
        "  X[c]=le.fit_transform(X[c])"
      ],
      "metadata": {
        "colab": {
          "base_uri": "https://localhost:8080/"
        },
        "id": "45OhxFUJsjPR",
        "outputId": "5d6c7ba7-51f5-4a47-a717-00929fc4cfc8"
      },
      "execution_count": null,
      "outputs": [
        {
          "output_type": "stream",
          "name": "stderr",
          "text": [
            "/usr/local/lib/python3.7/dist-packages/ipykernel_launcher.py:2: SettingWithCopyWarning: \n",
            "A value is trying to be set on a copy of a slice from a DataFrame.\n",
            "Try using .loc[row_indexer,col_indexer] = value instead\n",
            "\n",
            "See the caveats in the documentation: https://pandas.pydata.org/pandas-docs/stable/user_guide/indexing.html#returning-a-view-versus-a-copy\n",
            "  \n"
          ]
        }
      ]
    },
    {
      "cell_type": "markdown",
      "source": [
        "##Realiza tu clasificador, recuerda dividir los datos de manera balanceada (auxiliate de train test split)"
      ],
      "metadata": {
        "id": "GAP1aI-Hq6tw"
      }
    },
    {
      "cell_type": "code",
      "source": [
        "#Dividimos los datos entre entrenamiento y prueba.\n",
        "#Generamos tres modelos (bosque aleatorio, máquina de vectores de soporte y árboles de decisión)\n",
        "from sklearn.tree import DecisionTreeClassifier\n",
        "\n",
        "X_train, X_test, y_train, y_test = train_test_split(X, y, test_size=.2, stratify=y, random_state=42)\n",
        "\n",
        "voting_clf = VotingClassifier(\n",
        "    estimators=[\n",
        "        ('rf', RandomForestClassifier(random_state=42)),\n",
        "        ('dt', DecisionTreeClassifier(random_state=42)),\n",
        "        ('svc', SVC(random_state=42))\n",
        "    ]\n",
        ")\n",
        "voting_clf.fit(X_train, y_train)"
      ],
      "metadata": {
        "id": "dcwo0lXfzc2B",
        "colab": {
          "base_uri": "https://localhost:8080/"
        },
        "outputId": "4688956a-1a10-4b9b-847a-c88582ad7467"
      },
      "execution_count": null,
      "outputs": [
        {
          "output_type": "stream",
          "name": "stderr",
          "text": [
            "/usr/local/lib/python3.7/dist-packages/sklearn/preprocessing/_label.py:98: DataConversionWarning: A column-vector y was passed when a 1d array was expected. Please change the shape of y to (n_samples, ), for example using ravel().\n",
            "  y = column_or_1d(y, warn=True)\n",
            "/usr/local/lib/python3.7/dist-packages/sklearn/preprocessing/_label.py:133: DataConversionWarning: A column-vector y was passed when a 1d array was expected. Please change the shape of y to (n_samples, ), for example using ravel().\n",
            "  y = column_or_1d(y, warn=True)\n"
          ]
        },
        {
          "output_type": "execute_result",
          "data": {
            "text/plain": [
              "VotingClassifier(estimators=[('rf', RandomForestClassifier(random_state=42)),\n",
              "                             ('dt', DecisionTreeClassifier(random_state=42)),\n",
              "                             ('svc', SVC(random_state=42))])"
            ]
          },
          "metadata": {},
          "execution_count": 18
        }
      ]
    },
    {
      "cell_type": "markdown",
      "source": [
        "##Explora que clasificador es el más optimo, ejemplo: Decision trees, Random Forest."
      ],
      "metadata": {
        "id": "UvreCD97tphA"
      }
    },
    {
      "cell_type": "code",
      "source": [
        "#Obtenemos accuracy e identificamos cuál es el clasificador más óptimo.\n",
        "for name, clf in voting_clf.named_estimators_.items():\n",
        "    print(name, \"=\", clf.score(X_test, y_test).round(2))"
      ],
      "metadata": {
        "colab": {
          "base_uri": "https://localhost:8080/"
        },
        "id": "dfv1BRrCdFJW",
        "outputId": "d51cd886-160b-4204-985e-ef115d98a51e"
      },
      "execution_count": null,
      "outputs": [
        {
          "output_type": "stream",
          "name": "stdout",
          "text": [
            "rf = 0.96\n",
            "dt = 0.91\n",
            "svc = 0.8\n"
          ]
        }
      ]
    },
    {
      "cell_type": "markdown",
      "source": [
        "Determina el grado de exactitud a través del reporte de clasificación y análisis de la gráfica de Precision Recall."
      ],
      "metadata": {
        "id": "Kbz8WBecuCTk"
      }
    },
    {
      "cell_type": "code",
      "source": [
        "#Determinamos el grado de exactitud\n",
        "rf= RandomForestClassifier()\n",
        "rf.fit(X_train, y_train)\n",
        "rf.score(X_test, y_test)"
      ],
      "metadata": {
        "colab": {
          "base_uri": "https://localhost:8080/"
        },
        "id": "_ZJzVw0-te62",
        "outputId": "f00e8972-3415-422d-9f97-bd3a5a952a26"
      },
      "execution_count": null,
      "outputs": [
        {
          "output_type": "stream",
          "name": "stderr",
          "text": [
            "/usr/local/lib/python3.7/dist-packages/ipykernel_launcher.py:2: DataConversionWarning: A column-vector y was passed when a 1d array was expected. Please change the shape of y to (n_samples,), for example using ravel().\n",
            "  \n"
          ]
        },
        {
          "output_type": "execute_result",
          "data": {
            "text/plain": [
              "0.9532710280373832"
            ]
          },
          "metadata": {},
          "execution_count": 20
        }
      ]
    },
    {
      "cell_type": "code",
      "source": [
        "y_pred=rf.predict(X_test)"
      ],
      "metadata": {
        "id": "SIe0MkmQtsfJ"
      },
      "execution_count": null,
      "outputs": []
    },
    {
      "cell_type": "code",
      "source": [
        "#Generamos el reporte de clasificación\n",
        "from sklearn.metrics import classification_report\n",
        "print(classification_report(y_test, y_pred, labels=[0, 1, 2]))"
      ],
      "metadata": {
        "id": "8B2CPNwKdHcC",
        "colab": {
          "base_uri": "https://localhost:8080/"
        },
        "outputId": "c4b965d9-08b7-4230-dab6-3fa8c5676852"
      },
      "execution_count": null,
      "outputs": [
        {
          "output_type": "stream",
          "name": "stdout",
          "text": [
            "              precision    recall  f1-score   support\n",
            "\n",
            "           0       0.88      0.92      0.90        49\n",
            "           1       1.00      0.92      0.96        78\n",
            "           2       0.96      1.00      0.98        87\n",
            "\n",
            "    accuracy                           0.95       214\n",
            "   macro avg       0.95      0.95      0.95       214\n",
            "weighted avg       0.96      0.95      0.95       214\n",
            "\n"
          ]
        }
      ]
    },
    {
      "cell_type": "markdown",
      "source": [
        "Visualiza los resultados del modelo o las predicciones a través de una matriz de confusión."
      ],
      "metadata": {
        "id": "gAmo7JZ8rBtB"
      }
    },
    {
      "cell_type": "code",
      "source": [
        "#Generamos la matriz de confusión\n",
        "from sklearn.metrics import confusion_matrix\n",
        "import seaborn as sns\n",
        "\n",
        "def mi_cm(yreal, ypred):\n",
        "\n",
        "  cm = confusion_matrix(yreal, ypred)\n",
        "\n",
        "  txt = ['Verdaderos Positivo','Falsos', 'Falsos',\n",
        "         'Falsos','Verdaderos Positivos', 'Falsos',\n",
        "         'Falsos','Falsos', 'Verdadero Positivo']\n",
        "  vf = [ '( VN )', '( F )','( F )', \n",
        "        '( F )', '( VP )','( F )',\n",
        "        '( F )', '( F )','( VP )'\n",
        "        ]\n",
        "  frecuencia = [\"{0:0.0f}\".format(value) for value in cm.flatten()]\n",
        "  porcentaje = [\"{0:.1%}\".format(value) for value in cm.flatten()/np.sum(cm)]\n",
        "\n",
        "  labels = [f\"{v1}\\n{v2}\\n{v3}\\n{v4}\" for v1, v2, v3, v4 in zip(txt,vf, frecuencia,porcentaje)]\n",
        "  labels = np.asarray(labels).reshape(3,3)\n",
        "\n",
        "  plt.figure(figsize=(6,4))\n",
        "  ax = sns.heatmap(cm, annot=labels, fmt='', cmap='Spectral', cbar=False)\n",
        "  ax.set(ylabel=\"Etiquetas Reales\", xlabel=\"Etiquetas de Predicción\")\n",
        "  plt.show()\n"
      ],
      "metadata": {
        "id": "DLk8ttxqvzY5"
      },
      "execution_count": null,
      "outputs": []
    },
    {
      "cell_type": "code",
      "source": [
        "mi_cm(y_test, y_pred)"
      ],
      "metadata": {
        "colab": {
          "base_uri": "https://localhost:8080/",
          "height": 280
        },
        "id": "36YmNv-5wV5R",
        "outputId": "8904caae-399b-4209-e2aa-4a559766eaf6"
      },
      "execution_count": null,
      "outputs": [
        {
          "output_type": "display_data",
          "data": {
            "text/plain": [
              "<Figure size 432x288 with 1 Axes>"
            ],
            "image/png": "[encoded data removed]"
          },
          "metadata": {
            "needs_background": "light"
          }
        }
      ]
    },
    {
      "cell_type": "markdown",
      "source": [
        "Realiza un reporte de los principales hallazgos y conclusiones del experimento e incluyelos en una presentación ejecutiva de 10 diapositivas. La presentación deberá incluir todos los pasos del pipeline seguidos, limpieza, análisis, kmeans, clasificación, resultados y conclusiones."
      ],
      "metadata": {
        "id": "-I1yvmaWuJBR"
      }
    },
    {
      "cell_type": "code",
      "source": [
        "Dear participates, thank you for attending this course, we would like to invite you take a short interview after this lecture. If you would like to take this interview, please feel free to stay for a short time after Q&A with Professor, this is a good chance for showcasing yourself. Looking forward to meeting you face to face online. (This interview may need in Tsinghua news)\n",
        "We will ask following questions: \n",
        "Please introduce yourself, your name, where are you from, where are you studying or working, which major, etc.\n",
        "1.Why did you choose this course? \n",
        "2.How did you feel about this course? How is it different from other courses you have attended before?\n",
        "3. What have you gained from this course？\n",
        "4. How much of your learning is now done online?\n",
        "5.How do you think digital technologies will reshape the future of higher education?\n",
        "Your participation and answers will be very meaningful for knowledge sharing. \n",
        "\n",
        "\n",
        "Jobish\n",
        "Thanks professor. \n",
        "王运涛\n",
        "Yuntao Wang, yuntaowang@tsinghua.edu.cn, https://pi.cs.tsinghua.edu.cn/lab/people/YuntaoWang/ "
      ],
      "metadata": {
        "id": "yzUD95Etk7Gl",
        "colab": {
          "base_uri": "https://localhost:8080/",
          "height": 148
        },
        "outputId": "07d15261-4b85-4614-decf-45216d4e7369"
      },
      "execution_count": null,
      "outputs": [
        {
          "output_type": "error",
          "ename": "SyntaxError",
          "evalue": "ignored",
          "traceback": [
            "\u001b[0;36m  File \u001b[0;32m\"<ipython-input-25-1a1d8d4a0ef2>\"\u001b[0;36m, line \u001b[0;32m1\u001b[0m\n\u001b[0;31m    Dear participates, thank you for attending this course, we would like to invite you take a short interview after this lecture. If you would like to take this interview, please feel free to stay for a short time after Q&A with Professor, this is a good chance for showcasing yourself. Looking forward to meeting you face to face online. (This interview may need in Tsinghua news)\u001b[0m\n\u001b[0m                    ^\u001b[0m\n\u001b[0;31mSyntaxError\u001b[0m\u001b[0;31m:\u001b[0m invalid syntax\n"
          ]
        }
      ]
    }
  ]
}